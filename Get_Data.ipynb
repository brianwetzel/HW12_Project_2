{
 "cells": [
  {
   "cell_type": "code",
   "execution_count": 2,
   "id": "032ea07d-6e0d-4228-8292-51e7e555f978",
   "metadata": {},
   "outputs": [],
   "source": [
    "import numpy as np  # noqa\n",
    "import pandas as pd  # noqa\n",
    "from pandas import DataFrame\n",
    "import matplotlib.pyplot as plt\n",
    "from datetime import datetime, timedelta\n",
    "import plotly.graph_objects as go\n",
    "import os\n",
    "from pathlib import Path\n",
    "import talib as ta\n",
    "import yfinance as yf\n",
    "from talib import MA_Type as ma\n",
    "import pandas as pd\n"
   ]
  },
  {
   "cell_type": "code",
   "execution_count": 3,
   "id": "718bfcf0-6edd-4a1e-9363-f60017fd64c7",
   "metadata": {},
   "outputs": [],
   "source": [
    "asset = \"ETH-USD\" #ticker symbol or crypto \"BTC-USD\"\n",
    "inter = \"5m\" #stocks use 1m crypto use 5m\n",
    "period = \"15d\" #crypto use 14d stocks 7d\n",
    "timeperiod = 30\n",
    "std = 1.5"
   ]
  },
  {
   "cell_type": "code",
   "execution_count": 4,
   "id": "0417c897-2b41-4235-827d-762aedc34979",
   "metadata": {},
   "outputs": [
    {
     "name": "stdout",
     "output_type": "stream",
     "text": [
      "[*********************100%***********************]  1 of 1 completed\n"
     ]
    }
   ],
   "source": [
    "df = yf.download(tickers={asset}, start='2022-01-06', end='2022-01-09', interval = inter , rounding= True)"
   ]
  },
  {
   "cell_type": "code",
   "execution_count": 5,
   "id": "51f95eae-9e82-4062-8e98-38b1f7e5297b",
   "metadata": {},
   "outputs": [
    {
     "data": {
      "text/html": [
       "<div>\n",
       "<style scoped>\n",
       "    .dataframe tbody tr th:only-of-type {\n",
       "        vertical-align: middle;\n",
       "    }\n",
       "\n",
       "    .dataframe tbody tr th {\n",
       "        vertical-align: top;\n",
       "    }\n",
       "\n",
       "    .dataframe thead th {\n",
       "        text-align: right;\n",
       "    }\n",
       "</style>\n",
       "<table border=\"1\" class=\"dataframe\">\n",
       "  <thead>\n",
       "    <tr style=\"text-align: right;\">\n",
       "      <th></th>\n",
       "      <th>Open</th>\n",
       "      <th>High</th>\n",
       "      <th>Low</th>\n",
       "      <th>Close</th>\n",
       "      <th>Adj Close</th>\n",
       "      <th>Volume</th>\n",
       "    </tr>\n",
       "    <tr>\n",
       "      <th>Datetime</th>\n",
       "      <th></th>\n",
       "      <th></th>\n",
       "      <th></th>\n",
       "      <th></th>\n",
       "      <th></th>\n",
       "      <th></th>\n",
       "    </tr>\n",
       "  </thead>\n",
       "  <tbody>\n",
       "    <tr>\n",
       "      <th>2022-01-06 05:00:00+00:00</th>\n",
       "      <td>3458.27</td>\n",
       "      <td>3458.27</td>\n",
       "      <td>3453.92</td>\n",
       "      <td>3453.92</td>\n",
       "      <td>3453.92</td>\n",
       "      <td>0</td>\n",
       "    </tr>\n",
       "    <tr>\n",
       "      <th>2022-01-06 05:05:00+00:00</th>\n",
       "      <td>3455.96</td>\n",
       "      <td>3464.21</td>\n",
       "      <td>3455.96</td>\n",
       "      <td>3464.21</td>\n",
       "      <td>3464.21</td>\n",
       "      <td>149757952</td>\n",
       "    </tr>\n",
       "    <tr>\n",
       "      <th>2022-01-06 05:10:00+00:00</th>\n",
       "      <td>3470.80</td>\n",
       "      <td>3470.80</td>\n",
       "      <td>3468.58</td>\n",
       "      <td>3469.46</td>\n",
       "      <td>3469.46</td>\n",
       "      <td>28817408</td>\n",
       "    </tr>\n",
       "    <tr>\n",
       "      <th>2022-01-06 05:15:00+00:00</th>\n",
       "      <td>3469.29</td>\n",
       "      <td>3473.64</td>\n",
       "      <td>3469.29</td>\n",
       "      <td>3473.64</td>\n",
       "      <td>3473.64</td>\n",
       "      <td>109973504</td>\n",
       "    </tr>\n",
       "    <tr>\n",
       "      <th>2022-01-06 05:20:00+00:00</th>\n",
       "      <td>3474.18</td>\n",
       "      <td>3476.43</td>\n",
       "      <td>3474.18</td>\n",
       "      <td>3475.47</td>\n",
       "      <td>3475.47</td>\n",
       "      <td>79267840</td>\n",
       "    </tr>\n",
       "    <tr>\n",
       "      <th>...</th>\n",
       "      <td>...</td>\n",
       "      <td>...</td>\n",
       "      <td>...</td>\n",
       "      <td>...</td>\n",
       "      <td>...</td>\n",
       "      <td>...</td>\n",
       "    </tr>\n",
       "    <tr>\n",
       "      <th>2022-01-09 04:35:00+00:00</th>\n",
       "      <td>3133.38</td>\n",
       "      <td>3135.46</td>\n",
       "      <td>3133.38</td>\n",
       "      <td>3135.24</td>\n",
       "      <td>3135.24</td>\n",
       "      <td>2379776</td>\n",
       "    </tr>\n",
       "    <tr>\n",
       "      <th>2022-01-09 04:40:00+00:00</th>\n",
       "      <td>3135.76</td>\n",
       "      <td>3137.51</td>\n",
       "      <td>3135.76</td>\n",
       "      <td>3136.60</td>\n",
       "      <td>3136.60</td>\n",
       "      <td>12336128</td>\n",
       "    </tr>\n",
       "    <tr>\n",
       "      <th>2022-01-09 04:45:00+00:00</th>\n",
       "      <td>3136.39</td>\n",
       "      <td>3136.39</td>\n",
       "      <td>3133.95</td>\n",
       "      <td>3136.14</td>\n",
       "      <td>3136.14</td>\n",
       "      <td>0</td>\n",
       "    </tr>\n",
       "    <tr>\n",
       "      <th>2022-01-09 04:50:00+00:00</th>\n",
       "      <td>3136.28</td>\n",
       "      <td>3139.01</td>\n",
       "      <td>3136.28</td>\n",
       "      <td>3139.01</td>\n",
       "      <td>3139.01</td>\n",
       "      <td>73022464</td>\n",
       "    </tr>\n",
       "    <tr>\n",
       "      <th>2022-01-09 04:55:00+00:00</th>\n",
       "      <td>3137.94</td>\n",
       "      <td>3138.18</td>\n",
       "      <td>3137.22</td>\n",
       "      <td>3137.28</td>\n",
       "      <td>3137.28</td>\n",
       "      <td>0</td>\n",
       "    </tr>\n",
       "  </tbody>\n",
       "</table>\n",
       "<p>812 rows × 6 columns</p>\n",
       "</div>"
      ],
      "text/plain": [
       "                              Open     High      Low    Close  Adj Close  \\\n",
       "Datetime                                                                   \n",
       "2022-01-06 05:00:00+00:00  3458.27  3458.27  3453.92  3453.92    3453.92   \n",
       "2022-01-06 05:05:00+00:00  3455.96  3464.21  3455.96  3464.21    3464.21   \n",
       "2022-01-06 05:10:00+00:00  3470.80  3470.80  3468.58  3469.46    3469.46   \n",
       "2022-01-06 05:15:00+00:00  3469.29  3473.64  3469.29  3473.64    3473.64   \n",
       "2022-01-06 05:20:00+00:00  3474.18  3476.43  3474.18  3475.47    3475.47   \n",
       "...                            ...      ...      ...      ...        ...   \n",
       "2022-01-09 04:35:00+00:00  3133.38  3135.46  3133.38  3135.24    3135.24   \n",
       "2022-01-09 04:40:00+00:00  3135.76  3137.51  3135.76  3136.60    3136.60   \n",
       "2022-01-09 04:45:00+00:00  3136.39  3136.39  3133.95  3136.14    3136.14   \n",
       "2022-01-09 04:50:00+00:00  3136.28  3139.01  3136.28  3139.01    3139.01   \n",
       "2022-01-09 04:55:00+00:00  3137.94  3138.18  3137.22  3137.28    3137.28   \n",
       "\n",
       "                              Volume  \n",
       "Datetime                              \n",
       "2022-01-06 05:00:00+00:00          0  \n",
       "2022-01-06 05:05:00+00:00  149757952  \n",
       "2022-01-06 05:10:00+00:00   28817408  \n",
       "2022-01-06 05:15:00+00:00  109973504  \n",
       "2022-01-06 05:20:00+00:00   79267840  \n",
       "...                              ...  \n",
       "2022-01-09 04:35:00+00:00    2379776  \n",
       "2022-01-09 04:40:00+00:00   12336128  \n",
       "2022-01-09 04:45:00+00:00          0  \n",
       "2022-01-09 04:50:00+00:00   73022464  \n",
       "2022-01-09 04:55:00+00:00          0  \n",
       "\n",
       "[812 rows x 6 columns]"
      ]
     },
     "execution_count": 5,
     "metadata": {},
     "output_type": "execute_result"
    }
   ],
   "source": [
    "df"
   ]
  },
  {
   "cell_type": "code",
   "execution_count": 6,
   "id": "6583dad1-2d08-4744-af79-a538f522d8d4",
   "metadata": {},
   "outputs": [
    {
     "data": {
      "text/plain": [
       "<AxesSubplot:xlabel='Datetime'>"
      ]
     },
     "execution_count": 6,
     "metadata": {},
     "output_type": "execute_result"
    },
    {
     "data": {
      "image/png": "[encoded data removed]",
      "text/plain": [
       "<Figure size 432x288 with 1 Axes>"
      ]
     },
     "metadata": {
      "needs_background": "light"
     },
     "output_type": "display_data"
    }
   ],
   "source": [
    "df['Close'].plot()"
   ]
  },
  {
   "cell_type": "code",
   "execution_count": 7,
   "id": "51274404-3781-4a4a-8fdc-d5b112a24244",
   "metadata": {},
   "outputs": [],
   "source": [
    "df.to_csv(f\"{asset}_prices_{inter}.csv\")"
   ]
  },
  {
   "cell_type": "code",
   "execution_count": null,
   "id": "283dd5c0-8ef1-4208-b47f-abe69ce2d5e9",
   "metadata": {},
   "outputs": [],
   "source": []
  },
  {
   "cell_type": "code",
   "execution_count": null,
   "id": "bf3492af-3b94-4cc4-8644-7192c6bbc0fd",
   "metadata": {},
   "outputs": [],
   "source": []
  }
 ],
 "metadata": {
  "kernelspec": {
   "display_name": "Python 3 (ipykernel)",
   "language": "python",
   "name": "python3"
  },
  "language_info": {
   "codemirror_mode": {
    "name": "ipython",
    "version": 3
   },
   "file_extension": ".py",
   "mimetype": "text/x-python",
   "name": "python",
   "nbconvert_exporter": "python",
   "pygments_lexer": "ipython3",
   "version": "3.8.8"
  }
 },
 "nbformat": 4,
 "nbformat_minor": 5
}
