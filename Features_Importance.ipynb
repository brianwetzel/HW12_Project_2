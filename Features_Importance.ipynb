{
 "cells": [
  {
   "cell_type": "code",
   "execution_count": 1,
   "id": "d4516355-2e98-4ebb-9187-114fa00453f9",
   "metadata": {},
   "outputs": [],
   "source": [
    " # Initial imports\n",
    "import pandas as pd\n",
    "from pathlib import Path\n",
    "from sklearn.ensemble import RandomForestClassifier\n",
    "from sklearn.preprocessing import StandardScaler\n",
    "from sklearn.model_selection import train_test_split\n",
    "from sklearn.metrics import confusion_matrix, accuracy_score, classification_report\n",
    "%matplotlib inline\n",
    "\n",
    "# Needed for decision tree visualization\n",
    "#import pydotplus\n",
    "from IPython.display import Image"
   ]
  },
  {
   "cell_type": "code",
   "execution_count": 2,
   "id": "b2d2aa73-aba3-46d5-a7d1-6dc520ba5cc1",
   "metadata": {},
   "outputs": [],
   "source": [
    "file_path = Path(\"ETH-USD_candles_signal_5m.csv\")\n",
    "df = pd.read_csv(file_path)\n",
    "df\n",
    "ticker = \"ETH-USD\""
   ]
  },
  {
   "cell_type": "code",
   "execution_count": 3,
   "id": "8d8942ad-8ded-430f-ba77-7eefc523a665",
   "metadata": {},
   "outputs": [
    {
     "data": {
      "text/html": [
       "<div>\n",
       "<style scoped>\n",
       "    .dataframe tbody tr th:only-of-type {\n",
       "        vertical-align: middle;\n",
       "    }\n",
       "\n",
       "    .dataframe tbody tr th {\n",
       "        vertical-align: top;\n",
       "    }\n",
       "\n",
       "    .dataframe thead th {\n",
       "        text-align: right;\n",
       "    }\n",
       "</style>\n",
       "<table border=\"1\" class=\"dataframe\">\n",
       "  <thead>\n",
       "    <tr style=\"text-align: right;\">\n",
       "      <th></th>\n",
       "      <th>Two_Crows</th>\n",
       "      <th>Three_Black_Crows</th>\n",
       "      <th>Three_Inside_Updown</th>\n",
       "      <th>Three_Line_Strike</th>\n",
       "      <th>Three_Outside_UpDown</th>\n",
       "      <th>Three_Stars_In_The_South</th>\n",
       "      <th>Three_Advancing_White_Soldiers</th>\n",
       "      <th>Abandoned_Baby</th>\n",
       "      <th>Advance_Block</th>\n",
       "      <th>Belthold</th>\n",
       "      <th>...</th>\n",
       "      <th>Spinning_Top</th>\n",
       "      <th>Stalled_Pattern</th>\n",
       "      <th>Stick_Sandwich</th>\n",
       "      <th>Takuri_Dragonfly_Doji</th>\n",
       "      <th>Tasuki_Gap</th>\n",
       "      <th>Thrusting_Pattern</th>\n",
       "      <th>Tristar_Pattern</th>\n",
       "      <th>Unique_River</th>\n",
       "      <th>Upside_Gap_Two_Crows</th>\n",
       "      <th>UpsideDownside_Gap_Three_Methods</th>\n",
       "    </tr>\n",
       "  </thead>\n",
       "  <tbody>\n",
       "    <tr>\n",
       "      <th>0</th>\n",
       "      <td>0</td>\n",
       "      <td>0</td>\n",
       "      <td>0</td>\n",
       "      <td>0</td>\n",
       "      <td>0</td>\n",
       "      <td>0</td>\n",
       "      <td>0</td>\n",
       "      <td>0</td>\n",
       "      <td>0</td>\n",
       "      <td>0</td>\n",
       "      <td>...</td>\n",
       "      <td>0</td>\n",
       "      <td>0</td>\n",
       "      <td>0</td>\n",
       "      <td>0</td>\n",
       "      <td>0</td>\n",
       "      <td>0</td>\n",
       "      <td>0</td>\n",
       "      <td>0</td>\n",
       "      <td>0</td>\n",
       "      <td>0</td>\n",
       "    </tr>\n",
       "    <tr>\n",
       "      <th>1</th>\n",
       "      <td>0</td>\n",
       "      <td>0</td>\n",
       "      <td>0</td>\n",
       "      <td>0</td>\n",
       "      <td>0</td>\n",
       "      <td>0</td>\n",
       "      <td>0</td>\n",
       "      <td>0</td>\n",
       "      <td>0</td>\n",
       "      <td>0</td>\n",
       "      <td>...</td>\n",
       "      <td>0</td>\n",
       "      <td>0</td>\n",
       "      <td>0</td>\n",
       "      <td>0</td>\n",
       "      <td>0</td>\n",
       "      <td>0</td>\n",
       "      <td>0</td>\n",
       "      <td>0</td>\n",
       "      <td>0</td>\n",
       "      <td>0</td>\n",
       "    </tr>\n",
       "    <tr>\n",
       "      <th>2</th>\n",
       "      <td>0</td>\n",
       "      <td>0</td>\n",
       "      <td>0</td>\n",
       "      <td>0</td>\n",
       "      <td>0</td>\n",
       "      <td>0</td>\n",
       "      <td>0</td>\n",
       "      <td>0</td>\n",
       "      <td>0</td>\n",
       "      <td>0</td>\n",
       "      <td>...</td>\n",
       "      <td>0</td>\n",
       "      <td>0</td>\n",
       "      <td>0</td>\n",
       "      <td>0</td>\n",
       "      <td>0</td>\n",
       "      <td>0</td>\n",
       "      <td>0</td>\n",
       "      <td>0</td>\n",
       "      <td>0</td>\n",
       "      <td>0</td>\n",
       "    </tr>\n",
       "    <tr>\n",
       "      <th>3</th>\n",
       "      <td>0</td>\n",
       "      <td>0</td>\n",
       "      <td>0</td>\n",
       "      <td>0</td>\n",
       "      <td>0</td>\n",
       "      <td>0</td>\n",
       "      <td>0</td>\n",
       "      <td>0</td>\n",
       "      <td>0</td>\n",
       "      <td>0</td>\n",
       "      <td>...</td>\n",
       "      <td>0</td>\n",
       "      <td>0</td>\n",
       "      <td>0</td>\n",
       "      <td>0</td>\n",
       "      <td>0</td>\n",
       "      <td>0</td>\n",
       "      <td>0</td>\n",
       "      <td>0</td>\n",
       "      <td>0</td>\n",
       "      <td>0</td>\n",
       "    </tr>\n",
       "    <tr>\n",
       "      <th>4</th>\n",
       "      <td>0</td>\n",
       "      <td>0</td>\n",
       "      <td>0</td>\n",
       "      <td>0</td>\n",
       "      <td>0</td>\n",
       "      <td>0</td>\n",
       "      <td>0</td>\n",
       "      <td>0</td>\n",
       "      <td>0</td>\n",
       "      <td>0</td>\n",
       "      <td>...</td>\n",
       "      <td>0</td>\n",
       "      <td>0</td>\n",
       "      <td>0</td>\n",
       "      <td>0</td>\n",
       "      <td>0</td>\n",
       "      <td>0</td>\n",
       "      <td>0</td>\n",
       "      <td>0</td>\n",
       "      <td>0</td>\n",
       "      <td>0</td>\n",
       "    </tr>\n",
       "  </tbody>\n",
       "</table>\n",
       "<p>5 rows × 61 columns</p>\n",
       "</div>"
      ],
      "text/plain": [
       "   Two_Crows  Three_Black_Crows  Three_Inside_Updown  Three_Line_Strike  \\\n",
       "0          0                  0                    0                  0   \n",
       "1          0                  0                    0                  0   \n",
       "2          0                  0                    0                  0   \n",
       "3          0                  0                    0                  0   \n",
       "4          0                  0                    0                  0   \n",
       "\n",
       "   Three_Outside_UpDown  Three_Stars_In_The_South  \\\n",
       "0                     0                         0   \n",
       "1                     0                         0   \n",
       "2                     0                         0   \n",
       "3                     0                         0   \n",
       "4                     0                         0   \n",
       "\n",
       "   Three_Advancing_White_Soldiers  Abandoned_Baby  Advance_Block  Belthold  \\\n",
       "0                               0               0              0         0   \n",
       "1                               0               0              0         0   \n",
       "2                               0               0              0         0   \n",
       "3                               0               0              0         0   \n",
       "4                               0               0              0         0   \n",
       "\n",
       "   ...  Spinning_Top  Stalled_Pattern  Stick_Sandwich  Takuri_Dragonfly_Doji  \\\n",
       "0  ...             0                0               0                      0   \n",
       "1  ...             0                0               0                      0   \n",
       "2  ...             0                0               0                      0   \n",
       "3  ...             0                0               0                      0   \n",
       "4  ...             0                0               0                      0   \n",
       "\n",
       "   Tasuki_Gap  Thrusting_Pattern  Tristar_Pattern  Unique_River  \\\n",
       "0           0                  0                0             0   \n",
       "1           0                  0                0             0   \n",
       "2           0                  0                0             0   \n",
       "3           0                  0                0             0   \n",
       "4           0                  0                0             0   \n",
       "\n",
       "   Upside_Gap_Two_Crows  UpsideDownside_Gap_Three_Methods  \n",
       "0                     0                                 0  \n",
       "1                     0                                 0  \n",
       "2                     0                                 0  \n",
       "3                     0                                 0  \n",
       "4                     0                                 0  \n",
       "\n",
       "[5 rows x 61 columns]"
      ]
     },
     "execution_count": 3,
     "metadata": {},
     "output_type": "execute_result"
    }
   ],
   "source": [
    "# Define features set\n",
    "X = df.copy()\n",
    "X.drop([\"Datetime\", \"Datetime.1\", \"Open\", \"High\",\"Low\",\"Close\", \"Adj Close\",\"Volume\",\"Candle_Sum\",\"signal\"], axis=1, inplace=True)\n",
    "X.head()"
   ]
  },
  {
   "cell_type": "code",
   "execution_count": 4,
   "id": "68f52df6-dfe5-4d9a-aed7-91aaefe7fdfb",
   "metadata": {},
   "outputs": [
    {
     "data": {
      "text/plain": [
       "array([0., 0., 0., 0., 0.])"
      ]
     },
     "execution_count": 4,
     "metadata": {},
     "output_type": "execute_result"
    }
   ],
   "source": [
    "y = df[\"signal\"].ravel()\n",
    "y[:5]"
   ]
  },
  {
   "cell_type": "code",
   "execution_count": 5,
   "id": "59a34007-3e5a-4f62-89b9-606328d80916",
   "metadata": {},
   "outputs": [],
   "source": [
    "# Splitting into Train and Test sets\n",
    "X_train, X_test, y_train, y_test = train_test_split(X, y, random_state=78)"
   ]
  },
  {
   "cell_type": "code",
   "execution_count": 6,
   "id": "0d776bb0-291b-4653-86ce-a0c305622af7",
   "metadata": {},
   "outputs": [],
   "source": [
    "scaler = StandardScaler()"
   ]
  },
  {
   "cell_type": "code",
   "execution_count": 7,
   "id": "2080349f-2d49-47b3-ae3c-7a43a46829ab",
   "metadata": {},
   "outputs": [],
   "source": [
    "# Fitting Standard Scaller\n",
    "X_scaler = scaler.fit(X_train)"
   ]
  },
  {
   "cell_type": "code",
   "execution_count": 8,
   "id": "52a93757-61c9-46ae-957c-3c14bebf1554",
   "metadata": {},
   "outputs": [],
   "source": [
    " # Scaling data\n",
    "X_train_scaled = X_scaler.transform(X_train)\n",
    "X_test_scaled = X_scaler.transform(X_test)"
   ]
  },
  {
   "cell_type": "code",
   "execution_count": 9,
   "id": "e9b556bc-af43-4e68-9179-f211af572c0d",
   "metadata": {},
   "outputs": [],
   "source": [
    "# Create a random forest classifier\n",
    "rf_model = RandomForestClassifier(n_estimators=500, random_state=78)"
   ]
  },
  {
   "cell_type": "code",
   "execution_count": 10,
   "id": "d847b766-b155-4344-a085-dc4724c889e3",
   "metadata": {},
   "outputs": [],
   "source": [
    "# Fitting the model\n",
    "rf_model = rf_model.fit(X_train_scaled, y_train)"
   ]
  },
  {
   "cell_type": "code",
   "execution_count": 11,
   "id": "2557b64e-d735-4e9d-8043-aa83029a41fd",
   "metadata": {},
   "outputs": [],
   "source": [
    "predictions = rf_model.predict(X_test_scaled)"
   ]
  },
  {
   "cell_type": "code",
   "execution_count": 12,
   "id": "99b7a653-7beb-4f56-8297-19b340b993bf",
   "metadata": {},
   "outputs": [],
   "source": [
    " # Calculating the confusion matrix\n",
    "cm = confusion_matrix(y_test, predictions)\n",
    "cm_df = pd.DataFrame(cm, index=[\"Actual 0\", \"Actual 1\", \"Actual 2\"], columns=[\"Predicted 0\", \"Predicted 1\", \"Predicted 2\"])\n",
    "\n",
    "# Calculating the accuracy score\n",
    "acc_score = accuracy_score(y_test, predictions)\n"
   ]
  },
  {
   "cell_type": "code",
   "execution_count": 13,
   "id": "8c81d332-81a3-4184-861f-f6f7341e8d80",
   "metadata": {},
   "outputs": [
    {
     "name": "stdout",
     "output_type": "stream",
     "text": [
      "Confusion Matrix\n"
     ]
    },
    {
     "data": {
      "text/html": [
       "<div>\n",
       "<style scoped>\n",
       "    .dataframe tbody tr th:only-of-type {\n",
       "        vertical-align: middle;\n",
       "    }\n",
       "\n",
       "    .dataframe tbody tr th {\n",
       "        vertical-align: top;\n",
       "    }\n",
       "\n",
       "    .dataframe thead th {\n",
       "        text-align: right;\n",
       "    }\n",
       "</style>\n",
       "<table border=\"1\" class=\"dataframe\">\n",
       "  <thead>\n",
       "    <tr style=\"text-align: right;\">\n",
       "      <th></th>\n",
       "      <th>Predicted 0</th>\n",
       "      <th>Predicted 1</th>\n",
       "      <th>Predicted 2</th>\n",
       "    </tr>\n",
       "  </thead>\n",
       "  <tbody>\n",
       "    <tr>\n",
       "      <th>Actual 0</th>\n",
       "      <td>367</td>\n",
       "      <td>1</td>\n",
       "      <td>1</td>\n",
       "    </tr>\n",
       "    <tr>\n",
       "      <th>Actual 1</th>\n",
       "      <td>2</td>\n",
       "      <td>171</td>\n",
       "      <td>4</td>\n",
       "    </tr>\n",
       "    <tr>\n",
       "      <th>Actual 2</th>\n",
       "      <td>0</td>\n",
       "      <td>1</td>\n",
       "      <td>373</td>\n",
       "    </tr>\n",
       "  </tbody>\n",
       "</table>\n",
       "</div>"
      ],
      "text/plain": [
       "          Predicted 0  Predicted 1  Predicted 2\n",
       "Actual 0          367            1            1\n",
       "Actual 1            2          171            4\n",
       "Actual 2            0            1          373"
      ]
     },
     "metadata": {},
     "output_type": "display_data"
    },
    {
     "name": "stdout",
     "output_type": "stream",
     "text": [
      "Accuracy Score : 0.9902173913043478\n",
      "Classification Report\n",
      "              precision    recall  f1-score   support\n",
      "\n",
      "        -1.0       0.99      0.99      0.99       369\n",
      "         0.0       0.99      0.97      0.98       177\n",
      "         1.0       0.99      1.00      0.99       374\n",
      "\n",
      "    accuracy                           0.99       920\n",
      "   macro avg       0.99      0.99      0.99       920\n",
      "weighted avg       0.99      0.99      0.99       920\n",
      "\n"
     ]
    }
   ],
   "source": [
    " # Displaying results\n",
    "print(\"Confusion Matrix\")\n",
    "display(cm_df)\n",
    "print(f\"Accuracy Score : {acc_score}\")\n",
    "print(\"Classification Report\")\n",
    "print(classification_report(y_test, predictions))"
   ]
  },
  {
   "cell_type": "code",
   "execution_count": null,
   "id": "4ce36c38-412a-47c7-a24c-79815b10b6af",
   "metadata": {},
   "outputs": [],
   "source": [
    "\n"
   ]
  },
  {
   "cell_type": "code",
   "execution_count": 14,
   "id": "01adc315-517f-42e6-836a-b22e5f875b11",
   "metadata": {},
   "outputs": [],
   "source": [
    " # Random Forests in sklearn will automatically calculate feature importance\n",
    "importances = rf_model.feature_importances_"
   ]
  },
  {
   "cell_type": "code",
   "execution_count": 15,
   "id": "5098e453-e5bb-4178-a801-0f22d8e971c3",
   "metadata": {},
   "outputs": [
    {
     "data": {
      "text/plain": [
       "[(0.22920414319224558, 'Short_Line_Candle'),\n",
       " (0.14652903792469293, 'Belthold'),\n",
       " (0.11994333454043904, 'Closing_Marubozu'),\n",
       " (0.07013590264002487, 'Marubozu'),\n",
       " (0.059058797984891075, 'Hikkake_Pattern'),\n",
       " (0.05476143497669619, 'Long_Line_Candle'),\n",
       " (0.04102629350362456, 'Harami_Pattern'),\n",
       " (0.028675912236674827, 'Engulfing_Pattern'),\n",
       " (0.0270037670933891, 'Three_Outside_UpDown'),\n",
       " (0.024924763151340745, 'Hammer'),\n",
       " (0.023809730459109814, 'Doji'),\n",
       " (0.022785540198540094, 'Thrusting_Pattern'),\n",
       " (0.022706074356332328, 'Dark_Cloud_Cover'),\n",
       " (0.015884496084434124, 'Shooting_Star'),\n",
       " (0.015640990331289975, 'Long_Legged_Doji'),\n",
       " (0.012882659128519923, 'Tasuki_Gap'),\n",
       " (0.010031106358002202, 'Stalled_Pattern'),\n",
       " (0.009613687441000595, 'Hanging_Man'),\n",
       " (0.006830116970323616, 'Advance_Block'),\n",
       " (0.006475918290378977, 'Gravestone_Doji'),\n",
       " (0.005818728996704183, 'Inverted_Hammer'),\n",
       " (0.005148546113297589, 'Matching_Low'),\n",
       " (0.004744981255188976, 'Dragonfly_Doji'),\n",
       " (0.004627099245474722, 'Doji_Star'),\n",
       " (0.0045471723937837065, 'Three_Inside_Updown'),\n",
       " (0.004407733299044432, 'Takuri_Dragonfly_Doji'),\n",
       " (0.003351567270469406, 'Stick_Sandwich'),\n",
       " (0.0033394041892712938, 'Spinning_Top'),\n",
       " (0.0021628370357453966, 'OnNeck_Pattern'),\n",
       " (0.001598011103617071, 'In_Neck_Pattern'),\n",
       " (0.0011511266365512446, 'Morning_Star'),\n",
       " (0.0010318322280313992, 'UpsideDownside_Gap_Three_Methods'),\n",
       " (0.0009855776539235827, 'Modified_Hikkake_Pattern'),\n",
       " (0.0009335693090792356, 'Breakaway'),\n",
       " (0.0009270774850931618, 'UpDown_gap_sidebyside_white_lines'),\n",
       " (0.000827449457368611, 'Upside_Gap_Two_Crows'),\n",
       " (0.0008272103953925222, 'Harami_Cross_Pattern'),\n",
       " (0.0008124180735153429, 'Piercing_Pattern'),\n",
       " (0.0007685435590452563, 'Homing_Pigeon'),\n",
       " (0.0007073430895173762, 'Separating_Lines'),\n",
       " (0.0006916187226853718, 'Evening_Star'),\n",
       " (0.0005482723718309817, 'Rickshaw_Man'),\n",
       " (0.0005353948307218875, 'Three_Black_Crows'),\n",
       " (0.0004954537347278654, 'HighWave_Candle'),\n",
       " (0.00039790892913852674, 'Identical_Three_Crows'),\n",
       " (0.0003195224052096559, 'Three_Advancing_White_Soldiers'),\n",
       " (0.00016433696280967523, 'Morning_Doji_Star'),\n",
       " (7.002134835188641e-05, 'Evening_Doji_Star'),\n",
       " (6.858339291732704e-05, 'Abandoned_Baby'),\n",
       " (6.042478369978389e-05, 'Ladder_Bottom'),\n",
       " (6.523541707566632e-06, 'Three_Line_Strike'),\n",
       " (2.273437304693756e-09, 'RisingFalling_Three_Methods'),\n",
       " (1.0506972862656448e-09, 'Counterattack'),\n",
       " (0.0, 'Unique_River'),\n",
       " (0.0, 'Two_Crows'),\n",
       " (0.0, 'Tristar_Pattern'),\n",
       " (0.0, 'Three_Stars_In_The_South'),\n",
       " (0.0, 'Mat_Hold'),\n",
       " (0.0, 'Kicking_bullbear_determined_by_the_longer_marubozu'),\n",
       " (0.0, 'Kicking'),\n",
       " (0.0, 'Concealing_Baby_Swallow')]"
      ]
     },
     "execution_count": 15,
     "metadata": {},
     "output_type": "execute_result"
    }
   ],
   "source": [
    "\n",
    "sorted(zip(rf_model.feature_importances_, X.columns), reverse=True)"
   ]
  },
  {
   "cell_type": "code",
   "execution_count": 16,
   "id": "007d3a0f-9671-41fe-a895-f04b3cd284b2",
   "metadata": {},
   "outputs": [
    {
     "data": {
      "text/plain": [
       "<AxesSubplot:title={'center':'ETH-USD Features of Importances'}, ylabel='1'>"
      ]
     },
     "execution_count": 16,
     "metadata": {},
     "output_type": "execute_result"
    },
    {
     "data": {
      "image/png": "[encoded data removed]",
      "text/plain": [
       "<Figure size 720x1080 with 1 Axes>"
      ]
     },
     "metadata": {
      "needs_background": "light"
     },
     "output_type": "display_data"
    }
   ],
   "source": [
    "# Visualize the features by importance\n",
    "importances_df = pd.DataFrame(sorted(zip(rf_model.feature_importances_, X.columns), reverse=True))\n",
    "importances_df.set_index(importances_df[1], inplace=True)\n",
    "importances_df.drop(columns=1, inplace=True)\n",
    "importances_df.rename(columns={0: 'Feature Importances'}, inplace=True)\n",
    "importances_sorted = importances_df.sort_values(by='Feature Importances')\n",
    "importances_sorted.dropna()\n",
    "importances_sorted.plot(kind='barh', figsize=(10,15), color='tan', title= f'{ticker} Features of Importances', legend=False, )"
   ]
  },
  {
   "cell_type": "code",
   "execution_count": null,
   "id": "adad4042-0479-42d8-922d-f968968b0091",
   "metadata": {},
   "outputs": [],
   "source": []
  },
  {
   "cell_type": "code",
   "execution_count": null,
   "id": "fbc01fa6-1140-45cc-8e11-1fdf62576773",
   "metadata": {},
   "outputs": [],
   "source": []
  },
  {
   "cell_type": "code",
   "execution_count": null,
   "id": "348fc2a4-8568-4b8b-8319-21ea348b578f",
   "metadata": {},
   "outputs": [],
   "source": []
  }
 ],
 "metadata": {
  "kernelspec": {
   "display_name": "Python 3 (ipykernel)",
   "language": "python",
   "name": "python3"
  },
  "language_info": {
   "codemirror_mode": {
    "name": "ipython",
    "version": 3
   },
   "file_extension": ".py",
   "mimetype": "text/x-python",
   "name": "python",
   "nbconvert_exporter": "python",
   "pygments_lexer": "ipython3",
   "version": "3.8.8"
  }
 },
 "nbformat": 4,
 "nbformat_minor": 5
}
