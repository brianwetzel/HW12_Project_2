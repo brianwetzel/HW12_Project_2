{
 "cells": [
  {
   "cell_type": "code",
   "execution_count": 3,
   "id": "032ea07d-6e0d-4228-8292-51e7e555f978",
   "metadata": {},
   "outputs": [],
   "source": [
    "import numpy as np  # noqa\n",
    "import pandas as pd  # noqa\n",
    "from pandas import DataFrame\n",
    "import matplotlib.pyplot as plt\n",
    "from datetime import datetime, timedelta\n",
    "# import plotly.graph_objects as go\n",
    "import os\n",
    "from pathlib import Path\n",
    "import talib as ta\n",
    "import yfinance as yf\n",
    "from talib import MA_Type as ma\n",
    "import pandas as pd\n"
   ]
  },
  {
   "cell_type": "code",
   "execution_count": 4,
   "id": "718bfcf0-6edd-4a1e-9363-f60017fd64c7",
   "metadata": {},
   "outputs": [],
   "source": [
    "asset = \"ETH-USD\" #ticker symbol or crypto \"BTC-USD\"\n",
    "inter = \"5m\" #stocks use 1m crypto use 5m\n",
    "period = \"15d\" #crypto use 14d stocks 7d\n",
    "timeperiod = 30\n",
    "std = 1.5"
   ]
  },
  {
   "cell_type": "code",
   "execution_count": 5,
   "id": "0417c897-2b41-4235-827d-762aedc34979",
   "metadata": {},
   "outputs": [
    {
     "name": "stdout",
     "output_type": "stream",
     "text": [
      "[*********************100%***********************]  1 of 1 completed\n"
     ]
    }
   ],
   "source": [
    "df = yf.download(tickers={asset}, period = period, interval = inter , rounding= True)"
   ]
  },
  {
   "cell_type": "code",
   "execution_count": 6,
   "id": "51f95eae-9e82-4062-8e98-38b1f7e5297b",
   "metadata": {},
   "outputs": [
    {
     "data": {
      "text/html": [
       "<div>\n",
       "<style scoped>\n",
       "    .dataframe tbody tr th:only-of-type {\n",
       "        vertical-align: middle;\n",
       "    }\n",
       "\n",
       "    .dataframe tbody tr th {\n",
       "        vertical-align: top;\n",
       "    }\n",
       "\n",
       "    .dataframe thead th {\n",
       "        text-align: right;\n",
       "    }\n",
       "</style>\n",
       "<table border=\"1\" class=\"dataframe\">\n",
       "  <thead>\n",
       "    <tr style=\"text-align: right;\">\n",
       "      <th></th>\n",
       "      <th>Open</th>\n",
       "      <th>High</th>\n",
       "      <th>Low</th>\n",
       "      <th>Close</th>\n",
       "      <th>Adj Close</th>\n",
       "      <th>Volume</th>\n",
       "    </tr>\n",
       "    <tr>\n",
       "      <th>Datetime</th>\n",
       "      <th></th>\n",
       "      <th></th>\n",
       "      <th></th>\n",
       "      <th></th>\n",
       "      <th></th>\n",
       "      <th></th>\n",
       "    </tr>\n",
       "  </thead>\n",
       "  <tbody>\n",
       "    <tr>\n",
       "      <th>2022-01-11 00:00:00+00:00</th>\n",
       "      <td>3082.99</td>\n",
       "      <td>3083.95</td>\n",
       "      <td>3078.20</td>\n",
       "      <td>3078.20</td>\n",
       "      <td>3078.20</td>\n",
       "      <td>0</td>\n",
       "    </tr>\n",
       "    <tr>\n",
       "      <th>2022-01-11 00:05:00+00:00</th>\n",
       "      <td>3077.97</td>\n",
       "      <td>3078.48</td>\n",
       "      <td>3076.78</td>\n",
       "      <td>3076.78</td>\n",
       "      <td>3076.78</td>\n",
       "      <td>0</td>\n",
       "    </tr>\n",
       "    <tr>\n",
       "      <th>2022-01-11 00:10:00+00:00</th>\n",
       "      <td>3075.47</td>\n",
       "      <td>3078.00</td>\n",
       "      <td>3075.45</td>\n",
       "      <td>3078.00</td>\n",
       "      <td>3078.00</td>\n",
       "      <td>133120</td>\n",
       "    </tr>\n",
       "    <tr>\n",
       "      <th>2022-01-11 00:15:00+00:00</th>\n",
       "      <td>3077.60</td>\n",
       "      <td>3077.60</td>\n",
       "      <td>3074.01</td>\n",
       "      <td>3074.01</td>\n",
       "      <td>3074.01</td>\n",
       "      <td>0</td>\n",
       "    </tr>\n",
       "    <tr>\n",
       "      <th>2022-01-11 00:20:00+00:00</th>\n",
       "      <td>3073.80</td>\n",
       "      <td>3073.90</td>\n",
       "      <td>3072.65</td>\n",
       "      <td>3072.65</td>\n",
       "      <td>3072.65</td>\n",
       "      <td>0</td>\n",
       "    </tr>\n",
       "    <tr>\n",
       "      <th>...</th>\n",
       "      <td>...</td>\n",
       "      <td>...</td>\n",
       "      <td>...</td>\n",
       "      <td>...</td>\n",
       "      <td>...</td>\n",
       "      <td>...</td>\n",
       "    </tr>\n",
       "    <tr>\n",
       "      <th>2022-01-25 19:50:00+00:00</th>\n",
       "      <td>2481.28</td>\n",
       "      <td>2481.28</td>\n",
       "      <td>2478.87</td>\n",
       "      <td>2478.87</td>\n",
       "      <td>2478.87</td>\n",
       "      <td>14626816</td>\n",
       "    </tr>\n",
       "    <tr>\n",
       "      <th>2022-01-25 19:55:00+00:00</th>\n",
       "      <td>2476.74</td>\n",
       "      <td>2476.74</td>\n",
       "      <td>2475.47</td>\n",
       "      <td>2475.47</td>\n",
       "      <td>2475.47</td>\n",
       "      <td>0</td>\n",
       "    </tr>\n",
       "    <tr>\n",
       "      <th>2022-01-25 20:00:00+00:00</th>\n",
       "      <td>2474.40</td>\n",
       "      <td>2474.40</td>\n",
       "      <td>2466.84</td>\n",
       "      <td>2466.84</td>\n",
       "      <td>2466.84</td>\n",
       "      <td>130872320</td>\n",
       "    </tr>\n",
       "    <tr>\n",
       "      <th>2022-01-25 20:05:00+00:00</th>\n",
       "      <td>2466.76</td>\n",
       "      <td>2466.76</td>\n",
       "      <td>2459.60</td>\n",
       "      <td>2459.60</td>\n",
       "      <td>2459.60</td>\n",
       "      <td>30696448</td>\n",
       "    </tr>\n",
       "    <tr>\n",
       "      <th>2022-01-25 20:09:00+00:00</th>\n",
       "      <td>2459.84</td>\n",
       "      <td>2459.84</td>\n",
       "      <td>2459.84</td>\n",
       "      <td>2459.84</td>\n",
       "      <td>2459.84</td>\n",
       "      <td>0</td>\n",
       "    </tr>\n",
       "  </tbody>\n",
       "</table>\n",
       "<p>4275 rows × 6 columns</p>\n",
       "</div>"
      ],
      "text/plain": [
       "                              Open     High      Low    Close  Adj Close  \\\n",
       "Datetime                                                                   \n",
       "2022-01-11 00:00:00+00:00  3082.99  3083.95  3078.20  3078.20    3078.20   \n",
       "2022-01-11 00:05:00+00:00  3077.97  3078.48  3076.78  3076.78    3076.78   \n",
       "2022-01-11 00:10:00+00:00  3075.47  3078.00  3075.45  3078.00    3078.00   \n",
       "2022-01-11 00:15:00+00:00  3077.60  3077.60  3074.01  3074.01    3074.01   \n",
       "2022-01-11 00:20:00+00:00  3073.80  3073.90  3072.65  3072.65    3072.65   \n",
       "...                            ...      ...      ...      ...        ...   \n",
       "2022-01-25 19:50:00+00:00  2481.28  2481.28  2478.87  2478.87    2478.87   \n",
       "2022-01-25 19:55:00+00:00  2476.74  2476.74  2475.47  2475.47    2475.47   \n",
       "2022-01-25 20:00:00+00:00  2474.40  2474.40  2466.84  2466.84    2466.84   \n",
       "2022-01-25 20:05:00+00:00  2466.76  2466.76  2459.60  2459.60    2459.60   \n",
       "2022-01-25 20:09:00+00:00  2459.84  2459.84  2459.84  2459.84    2459.84   \n",
       "\n",
       "                              Volume  \n",
       "Datetime                              \n",
       "2022-01-11 00:00:00+00:00          0  \n",
       "2022-01-11 00:05:00+00:00          0  \n",
       "2022-01-11 00:10:00+00:00     133120  \n",
       "2022-01-11 00:15:00+00:00          0  \n",
       "2022-01-11 00:20:00+00:00          0  \n",
       "...                              ...  \n",
       "2022-01-25 19:50:00+00:00   14626816  \n",
       "2022-01-25 19:55:00+00:00          0  \n",
       "2022-01-25 20:00:00+00:00  130872320  \n",
       "2022-01-25 20:05:00+00:00   30696448  \n",
       "2022-01-25 20:09:00+00:00          0  \n",
       "\n",
       "[4275 rows x 6 columns]"
      ]
     },
     "execution_count": 6,
     "metadata": {},
     "output_type": "execute_result"
    }
   ],
   "source": [
    "df"
   ]
  },
  {
   "cell_type": "code",
   "execution_count": 7,
   "id": "6583dad1-2d08-4744-af79-a538f522d8d4",
   "metadata": {},
   "outputs": [
    {
     "data": {
      "text/plain": [
       "<AxesSubplot:xlabel='Datetime'>"
      ]
     },
     "execution_count": 7,
     "metadata": {},
     "output_type": "execute_result"
    },
    {
     "data": {
      "image/png": "[encoded data removed]",
      "text/plain": [
       "<Figure size 432x288 with 1 Axes>"
      ]
     },
     "metadata": {
      "needs_background": "light"
     },
     "output_type": "display_data"
    }
   ],
   "source": [
    "df['Close'].plot()"
   ]
  },
  {
   "cell_type": "code",
   "execution_count": 8,
   "id": "51274404-3781-4a4a-8fdc-d5b112a24244",
   "metadata": {},
   "outputs": [],
   "source": [
    "df.to_csv(f\"{asset}_prices_{inter}.csv\")"
   ]
  },
  {
   "cell_type": "code",
   "execution_count": null,
   "id": "283dd5c0-8ef1-4208-b47f-abe69ce2d5e9",
   "metadata": {},
   "outputs": [],
   "source": []
  },
  {
   "cell_type": "code",
   "execution_count": null,
   "id": "bf3492af-3b94-4cc4-8644-7192c6bbc0fd",
   "metadata": {},
   "outputs": [],
   "source": []
  },
  {
   "cell_type": "code",
   "execution_count": null,
   "id": "0dfaaebd-d0ad-43ad-8aef-e08da29bb7cf",
   "metadata": {},
   "outputs": [],
   "source": []
  }
 ],
 "metadata": {
  "kernelspec": {
   "display_name": "Python 3 (ipykernel)",
   "language": "python",
   "name": "python3"
  },
  "language_info": {
   "codemirror_mode": {
    "name": "ipython",
    "version": 3
   },
   "file_extension": ".py",
   "mimetype": "text/x-python",
   "name": "python",
   "nbconvert_exporter": "python",
   "pygments_lexer": "ipython3",
   "version": "3.8.8"
  }
 },
 "nbformat": 4,
 "nbformat_minor": 5
}
