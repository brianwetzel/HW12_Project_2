{
 "cells": [
  {
   "cell_type": "code",
   "execution_count": 1,
   "id": "6423bd05-bcf7-4ca0-8259-71d9759beb3c",
   "metadata": {},
   "outputs": [],
   "source": [
    "# IMPORTING IMPORTANT LIBRARIES\n",
    "import pandas as pd\n",
    "import matplotlib.pyplot as plt\n",
    "import numpy as np \n",
    "import math\n",
    "from sklearn.preprocessing import MinMaxScaler\n",
    "from sklearn.metrics import mean_squared_error\n",
    "from keras.models import Sequential\n",
    "from keras.layers import Dense, Activation\n",
    "from keras.layers import LSTM\n",
    "# import preprocessing \n",
    "\n",
    "# FOR REPRODUCIBILITY\n",
    "np.random.seed(7)"
   ]
  },
  {
   "cell_type": "code",
   "execution_count": 2,
   "id": "06cf4e12-dbea-4b16-8468-78e5d9b4c2e3",
   "metadata": {},
   "outputs": [],
   "source": [
    "# DATA INFO\n",
    "ticker = \"MSFT\"\n",
    "inter = \"1m\" #crypto has to be every 5 minutes while stocks is 1m\n"
   ]
  },
  {
   "cell_type": "code",
   "execution_count": 3,
   "id": "a10220f7-6a74-4438-828a-c9b7704987a4",
   "metadata": {},
   "outputs": [],
   "source": [
    "# IMPORTING DATASET \n",
    "# dataset = pd.read_csv('apple_share_price.csv', usecols=[1,2,3,4])\n",
    "# dataset = dataset.reindex(index = dataset.index[::-1])"
   ]
  },
  {
   "cell_type": "code",
   "execution_count": 4,
   "id": "a621f264-c625-48aa-ab97-5b4389bd5a1e",
   "metadata": {},
   "outputs": [
    {
     "data": {
      "text/html": [
       "<div>\n",
       "<style scoped>\n",
       "    .dataframe tbody tr th:only-of-type {\n",
       "        vertical-align: middle;\n",
       "    }\n",
       "\n",
       "    .dataframe tbody tr th {\n",
       "        vertical-align: top;\n",
       "    }\n",
       "\n",
       "    .dataframe thead th {\n",
       "        text-align: right;\n",
       "    }\n",
       "</style>\n",
       "<table border=\"1\" class=\"dataframe\">\n",
       "  <thead>\n",
       "    <tr style=\"text-align: right;\">\n",
       "      <th></th>\n",
       "      <th>Datetime</th>\n",
       "      <th>Open</th>\n",
       "      <th>High</th>\n",
       "      <th>Low</th>\n",
       "      <th>Close</th>\n",
       "    </tr>\n",
       "    <tr>\n",
       "      <th>Datetime</th>\n",
       "      <th></th>\n",
       "      <th></th>\n",
       "      <th></th>\n",
       "      <th></th>\n",
       "      <th></th>\n",
       "    </tr>\n",
       "  </thead>\n",
       "  <tbody>\n",
       "    <tr>\n",
       "      <th>2022-01-07 09:30:00-05:00</th>\n",
       "      <td>2022-01-07 09:30:00-05:00</td>\n",
       "      <td>314.15</td>\n",
       "      <td>315.00</td>\n",
       "      <td>313.55</td>\n",
       "      <td>314.52</td>\n",
       "    </tr>\n",
       "    <tr>\n",
       "      <th>2022-01-07 09:31:00-05:00</th>\n",
       "      <td>2022-01-07 09:31:00-05:00</td>\n",
       "      <td>314.51</td>\n",
       "      <td>315.32</td>\n",
       "      <td>314.33</td>\n",
       "      <td>315.24</td>\n",
       "    </tr>\n",
       "    <tr>\n",
       "      <th>2022-01-07 09:32:00-05:00</th>\n",
       "      <td>2022-01-07 09:32:00-05:00</td>\n",
       "      <td>315.24</td>\n",
       "      <td>315.28</td>\n",
       "      <td>314.06</td>\n",
       "      <td>314.66</td>\n",
       "    </tr>\n",
       "    <tr>\n",
       "      <th>2022-01-07 09:33:00-05:00</th>\n",
       "      <td>2022-01-07 09:33:00-05:00</td>\n",
       "      <td>313.50</td>\n",
       "      <td>313.68</td>\n",
       "      <td>313.27</td>\n",
       "      <td>313.56</td>\n",
       "    </tr>\n",
       "    <tr>\n",
       "      <th>2022-01-07 09:34:00-05:00</th>\n",
       "      <td>2022-01-07 09:34:00-05:00</td>\n",
       "      <td>313.54</td>\n",
       "      <td>314.14</td>\n",
       "      <td>313.26</td>\n",
       "      <td>313.47</td>\n",
       "    </tr>\n",
       "    <tr>\n",
       "      <th>...</th>\n",
       "      <td>...</td>\n",
       "      <td>...</td>\n",
       "      <td>...</td>\n",
       "      <td>...</td>\n",
       "      <td>...</td>\n",
       "    </tr>\n",
       "    <tr>\n",
       "      <th>2022-01-18 15:56:00-05:00</th>\n",
       "      <td>2022-01-18 15:56:00-05:00</td>\n",
       "      <td>302.20</td>\n",
       "      <td>302.40</td>\n",
       "      <td>302.06</td>\n",
       "      <td>302.23</td>\n",
       "    </tr>\n",
       "    <tr>\n",
       "      <th>2022-01-18 15:57:00-05:00</th>\n",
       "      <td>2022-01-18 15:57:00-05:00</td>\n",
       "      <td>302.21</td>\n",
       "      <td>302.82</td>\n",
       "      <td>302.17</td>\n",
       "      <td>302.63</td>\n",
       "    </tr>\n",
       "    <tr>\n",
       "      <th>2022-01-18 15:58:00-05:00</th>\n",
       "      <td>2022-01-18 15:58:00-05:00</td>\n",
       "      <td>302.54</td>\n",
       "      <td>302.69</td>\n",
       "      <td>302.42</td>\n",
       "      <td>302.60</td>\n",
       "    </tr>\n",
       "    <tr>\n",
       "      <th>2022-01-18 15:59:00-05:00</th>\n",
       "      <td>2022-01-18 15:59:00-05:00</td>\n",
       "      <td>302.61</td>\n",
       "      <td>303.11</td>\n",
       "      <td>302.22</td>\n",
       "      <td>302.77</td>\n",
       "    </tr>\n",
       "    <tr>\n",
       "      <th>2022-01-18 16:00:00-05:00</th>\n",
       "      <td>2022-01-18 16:00:00-05:00</td>\n",
       "      <td>302.65</td>\n",
       "      <td>302.65</td>\n",
       "      <td>302.65</td>\n",
       "      <td>302.65</td>\n",
       "    </tr>\n",
       "  </tbody>\n",
       "</table>\n",
       "<p>2731 rows × 5 columns</p>\n",
       "</div>"
      ],
      "text/plain": [
       "                                            Datetime    Open    High     Low  \\\n",
       "Datetime                                                                       \n",
       "2022-01-07 09:30:00-05:00  2022-01-07 09:30:00-05:00  314.15  315.00  313.55   \n",
       "2022-01-07 09:31:00-05:00  2022-01-07 09:31:00-05:00  314.51  315.32  314.33   \n",
       "2022-01-07 09:32:00-05:00  2022-01-07 09:32:00-05:00  315.24  315.28  314.06   \n",
       "2022-01-07 09:33:00-05:00  2022-01-07 09:33:00-05:00  313.50  313.68  313.27   \n",
       "2022-01-07 09:34:00-05:00  2022-01-07 09:34:00-05:00  313.54  314.14  313.26   \n",
       "...                                              ...     ...     ...     ...   \n",
       "2022-01-18 15:56:00-05:00  2022-01-18 15:56:00-05:00  302.20  302.40  302.06   \n",
       "2022-01-18 15:57:00-05:00  2022-01-18 15:57:00-05:00  302.21  302.82  302.17   \n",
       "2022-01-18 15:58:00-05:00  2022-01-18 15:58:00-05:00  302.54  302.69  302.42   \n",
       "2022-01-18 15:59:00-05:00  2022-01-18 15:59:00-05:00  302.61  303.11  302.22   \n",
       "2022-01-18 16:00:00-05:00  2022-01-18 16:00:00-05:00  302.65  302.65  302.65   \n",
       "\n",
       "                            Close  \n",
       "Datetime                           \n",
       "2022-01-07 09:30:00-05:00  314.52  \n",
       "2022-01-07 09:31:00-05:00  315.24  \n",
       "2022-01-07 09:32:00-05:00  314.66  \n",
       "2022-01-07 09:33:00-05:00  313.56  \n",
       "2022-01-07 09:34:00-05:00  313.47  \n",
       "...                           ...  \n",
       "2022-01-18 15:56:00-05:00  302.23  \n",
       "2022-01-18 15:57:00-05:00  302.63  \n",
       "2022-01-18 15:58:00-05:00  302.60  \n",
       "2022-01-18 15:59:00-05:00  302.77  \n",
       "2022-01-18 16:00:00-05:00  302.65  \n",
       "\n",
       "[2731 rows x 5 columns]"
      ]
     },
     "execution_count": 4,
     "metadata": {},
     "output_type": "execute_result"
    }
   ],
   "source": [
    "dataset = pd.read_csv(f\"{ticker}_prices_{inter}.csv\",\n",
    "    parse_dates=True,\n",
    "    infer_datetime_format=True,\n",
    "    usecols=[0,1,2,3,4])\n",
    "dataset = dataset.set_index(pd.DatetimeIndex(dataset['Datetime']), drop=True, append=False, inplace=False, verify_integrity=False)\n",
    "dataset"
   ]
  },
  {
   "cell_type": "code",
   "execution_count": 5,
   "id": "b5ef8576-61f2-4944-a58d-ef5d2470c885",
   "metadata": {},
   "outputs": [],
   "source": [
    "# CREATING OWN INDEX FOR FLEXIBILITY\n",
    "obs = np.arange(1, len(dataset) + 1, 1)"
   ]
  },
  {
   "cell_type": "code",
   "execution_count": 6,
   "id": "aeb2fef1-a828-4089-82e7-d2c0ca4ee123",
   "metadata": {},
   "outputs": [
    {
     "name": "stderr",
     "output_type": "stream",
     "text": [
      "/var/folders/2n/5x827bx92hj421n_qcs8qb9h0000gn/T/ipykernel_89928/391131955.py:2: FutureWarning: Dropping of nuisance columns in DataFrame reductions (with 'numeric_only=None') is deprecated; in a future version this will raise TypeError.  Select only valid columns before calling the reduction.\n",
      "  OHLC_avg = dataset.mean(axis = 1)\n"
     ]
    }
   ],
   "source": [
    "# TAKING DIFFERENT INDICATORS FOR PREDICTION\n",
    "OHLC_avg = dataset.mean(axis = 1)\n",
    "HLC_avg = dataset[['High', 'Low', 'Close']].mean(axis = 1)\n",
    "close_val = dataset[['Close']]"
   ]
  },
  {
   "cell_type": "code",
   "execution_count": 7,
   "id": "f1640400-5786-4a97-80eb-b1508b2fb08d",
   "metadata": {},
   "outputs": [
    {
     "data": {
      "image/png": "[encoded data removed]",
      "text/plain": [
       "<Figure size 432x288 with 1 Axes>"
      ]
     },
     "metadata": {
      "needs_background": "light"
     },
     "output_type": "display_data"
    }
   ],
   "source": [
    "# PLOTTING ALL INDICATORS IN ONE PLOT\n",
    "plt.plot(obs, OHLC_avg, 'r', label = 'OHLC avg')\n",
    "plt.plot(obs, HLC_avg, 'b', label = 'HLC avg')\n",
    "plt.plot(obs, close_val, 'g', label = 'Closing price')\n",
    "plt.legend(loc = 'upper right')\n",
    "plt.show()"
   ]
  },
  {
   "cell_type": "code",
   "execution_count": 8,
   "id": "42810b99-cd9e-4aa8-9bd3-bbf45850b0fd",
   "metadata": {},
   "outputs": [],
   "source": [
    "# PREPARATION OF TIME SERIES DATASE\n",
    "OHLC_avg = np.reshape(OHLC_avg.values, (len(OHLC_avg),1)) # 1664\n",
    "scaler = MinMaxScaler(feature_range=(0, 1))\n",
    "OHLC_avg = scaler.fit_transform(OHLC_avg)"
   ]
  },
  {
   "cell_type": "code",
   "execution_count": 9,
   "id": "0e4f221b-0b5f-478c-802b-f83a7a94569a",
   "metadata": {},
   "outputs": [],
   "source": [
    "# TRAIN-TEST SPLIT\n",
    "train_OHLC = int(len(OHLC_avg) * 0.75)\n",
    "test_OHLC = len(OHLC_avg) - train_OHLC\n",
    "train_OHLC, test_OHLC = OHLC_avg[0:train_OHLC,:], OHLC_avg[train_OHLC:len(OHLC_avg),:]"
   ]
  },
  {
   "cell_type": "code",
   "execution_count": 10,
   "id": "4a732aa2-d20b-418c-9ce6-661e8e752957",
   "metadata": {},
   "outputs": [
    {
     "ename": "NameError",
     "evalue": "name 'preprocessing' is not defined",
     "output_type": "error",
     "traceback": [
      "\u001b[0;31m---------------------------------------------------------------------------\u001b[0m",
      "\u001b[0;31mNameError\u001b[0m                                 Traceback (most recent call last)",
      "\u001b[0;32m/var/folders/2n/5x827bx92hj421n_qcs8qb9h0000gn/T/ipykernel_89928/77195977.py\u001b[0m in \u001b[0;36m<module>\u001b[0;34m\u001b[0m\n\u001b[1;32m      1\u001b[0m \u001b[0;31m# TIME-SERIES DATASET (FOR TIME T, VALUES FOR TIME T+1)\u001b[0m\u001b[0;34m\u001b[0m\u001b[0;34m\u001b[0m\u001b[0;34m\u001b[0m\u001b[0m\n\u001b[0;32m----> 2\u001b[0;31m \u001b[0mtrainX\u001b[0m\u001b[0;34m,\u001b[0m \u001b[0mtrainY\u001b[0m \u001b[0;34m=\u001b[0m \u001b[0mpreprocessing\u001b[0m\u001b[0;34m.\u001b[0m\u001b[0mnew_dataset\u001b[0m\u001b[0;34m(\u001b[0m\u001b[0mtrain_OHLC\u001b[0m\u001b[0;34m,\u001b[0m \u001b[0;36m1\u001b[0m\u001b[0;34m)\u001b[0m\u001b[0;34m\u001b[0m\u001b[0;34m\u001b[0m\u001b[0m\n\u001b[0m\u001b[1;32m      3\u001b[0m \u001b[0mtestX\u001b[0m\u001b[0;34m,\u001b[0m \u001b[0mtestY\u001b[0m \u001b[0;34m=\u001b[0m \u001b[0mpreprocessing\u001b[0m\u001b[0;34m.\u001b[0m\u001b[0mnew_dataset\u001b[0m\u001b[0;34m(\u001b[0m\u001b[0mtest_OHLC\u001b[0m\u001b[0;34m,\u001b[0m \u001b[0;36m1\u001b[0m\u001b[0;34m)\u001b[0m\u001b[0;34m\u001b[0m\u001b[0;34m\u001b[0m\u001b[0m\n",
      "\u001b[0;31mNameError\u001b[0m: name 'preprocessing' is not defined"
     ]
    }
   ],
   "source": [
    "# TIME-SERIES DATASET (FOR TIME T, VALUES FOR TIME T+1)\n",
    "trainX, trainY = preprocessing.new_dataset(train_OHLC, 1)\n",
    "testX, testY = preprocessing.new_dataset(test_OHLC, 1)"
   ]
  },
  {
   "cell_type": "code",
   "execution_count": null,
   "id": "b99ebb83-68df-491f-bf9d-6b6a8a6378f3",
   "metadata": {},
   "outputs": [],
   "source": [
    "# RESHAPING TRAIN AND TEST DATA\n",
    "trainX = np.reshape(trainX, (trainX.shape[0], 1, trainX.shape[1]))\n",
    "testX = np.reshape(testX, (testX.shape[0], 1, testX.shape[1]))\n",
    "step_size = 1"
   ]
  },
  {
   "cell_type": "code",
   "execution_count": null,
   "id": "0532c2ef-a7dd-4f04-8368-71b6cbca92bc",
   "metadata": {},
   "outputs": [],
   "source": [
    "# LSTM MODEL\n",
    "model = Sequential()\n",
    "model.add(LSTM(32, input_shape=(1, step_size), return_sequences = True))\n",
    "model.add(LSTM(16))\n",
    "model.add(Dense(1))\n",
    "model.add(Activation('linear'))\n",
    "\n",
    "# MODEL COMPILING AND TRAINING\n",
    "model.compile(loss='mean_squared_error', optimizer='adagrad') # Try SGD, adam, adagrad and compare!!!\n",
    "model.fit(trainX, trainY, epochs=5, batch_size=1, verbose=2)\n",
    "\n",
    "# PREDICTION\n",
    "trainPredict = model.predict(trainX)\n",
    "testPredict = model.predict(testX)\n",
    "\n",
    "# DE-NORMALIZING FOR PLOTTING\n",
    "trainPredict = scaler.inverse_transform(trainPredict)\n",
    "trainY = scaler.inverse_transform([trainY])\n",
    "testPredict = scaler.inverse_transform(testPredict)\n",
    "testY = scaler.inverse_transform([testY])\n",
    "\n",
    "\n",
    "# TRAINING RMSE\n",
    "trainScore = math.sqrt(mean_squared_error(trainY[0], trainPredict[:,0]))\n",
    "print('Train RMSE: %.2f' % (trainScore))\n",
    "\n",
    "# TEST RMSE\n",
    "testScore = math.sqrt(mean_squared_error(testY[0], testPredict[:,0]))\n",
    "print('Test RMSE: %.2f' % (testScore))\n",
    "\n",
    "# CREATING SIMILAR DATASET TO PLOT TRAINING PREDICTIONS\n",
    "trainPredictPlot = np.empty_like(OHLC_avg)\n",
    "trainPredictPlot[:, :] = np.nan\n",
    "trainPredictPlot[step_size:len(trainPredict)+step_size, :] = trainPredict\n",
    "\n",
    "# CREATING SIMILAR DATASSET TO PLOT TEST PREDICTIONS\n",
    "testPredictPlot = np.empty_like(OHLC_avg)\n",
    "testPredictPlot[:, :] = np.nan\n",
    "testPredictPlot[len(trainPredict)+(step_size*2)+1:len(OHLC_avg)-1, :] = testPredict\n",
    "\n",
    "# DE-NORMALIZING MAIN DATASET \n",
    "OHLC_avg = scaler.inverse_transform(OHLC_avg)\n",
    "\n",
    "# PLOT OF MAIN OHLC VALUES, TRAIN PREDICTIONS AND TEST PREDICTIONS\n",
    "plt.plot(OHLC_avg, 'g', label = 'original dataset')\n",
    "plt.plot(trainPredictPlot, 'r', label = 'training set')\n",
    "plt.plot(testPredictPlot, 'b', label = 'predicted stock price/test set')\n",
    "plt.legend(loc = 'upper right')\n",
    "plt.xlabel('Time in Days')\n",
    "plt.ylabel('OHLC Value of Apple Stocks')\n",
    "plt.show()\n",
    "\n",
    "# PREDICT FUTURE VALUES\n",
    "last_val = testPredict[-1]\n",
    "last_val_scaled = last_val/last_val\n",
    "next_val = model.predict(np.reshape(last_val_scaled, (1,1,1)))\n",
    "print \"Last Day Value:\", np.asscalar(last_val)\n",
    "print \"Next Day Value:\", np.asscalar(last_val*next_val)\n",
    "# print np.append(last_val, next_val)"
   ]
  }
 ],
 "metadata": {
  "kernelspec": {
   "display_name": "Python 3 (ipykernel)",
   "language": "python",
   "name": "python3"
  },
  "language_info": {
   "codemirror_mode": {
    "name": "ipython",
    "version": 3
   },
   "file_extension": ".py",
   "mimetype": "text/x-python",
   "name": "python",
   "nbconvert_exporter": "python",
   "pygments_lexer": "ipython3",
   "version": "3.8.8"
  }
 },
 "nbformat": 4,
 "nbformat_minor": 5
}
