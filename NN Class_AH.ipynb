{
 "cells": [
  {
   "cell_type": "code",
   "execution_count": 49,
   "id": "7f99cb3c-89b3-4f1f-b455-65991b58808b",
   "metadata": {},
   "outputs": [],
   "source": [
    "# Initial imports\n",
    "import numpy as np\n",
    "import pandas as pd\n",
    "from pathlib import Path\n",
    "\n",
    "%matplotlib inline"
   ]
  },
  {
   "cell_type": "code",
   "execution_count": 50,
   "id": "f81fa01f-0b77-4faf-aede-b2d4bd136c61",
   "metadata": {},
   "outputs": [],
   "source": [
    "# Set the random seed for reproducibility\n",
    "# Note: This is used for model prototyping, but it is good practice to comment this out and run multiple experiments to evaluate your model.\n",
    "from numpy.random import seed\n",
    "\n",
    "seed(1)\n",
    "from tensorflow import random\n",
    "\n",
    "random.set_seed(2)"
   ]
  },
  {
   "cell_type": "code",
   "execution_count": 51,
   "id": "b3cbcea0-6eae-4cc4-b501-a293ad98a3f3",
   "metadata": {},
   "outputs": [],
   "source": [
    "#Create variables for the stock we are analyzing and the amount of time\n",
    "\n",
    "ticker = \"ETH-USD\"\n",
    "inter = \"5m\" #crypto has to be every 5 minutes while stocks is 1m"
   ]
  },
  {
   "cell_type": "code",
   "execution_count": 52,
   "id": "445f1329-9a38-4d21-993d-054ac3e26694",
   "metadata": {},
   "outputs": [],
   "source": [
    "df = pd.read_csv(\n",
    "    Path(f\"{ticker}_prices_{inter}_January.csv\"),\n",
    "    parse_dates=True,\n",
    "    infer_datetime_format=True)"
   ]
  },
  {
   "cell_type": "code",
   "execution_count": 53,
   "id": "e84ba2d5-e236-403f-bccc-5ccf1aa0e906",
   "metadata": {},
   "outputs": [],
   "source": [
    "df = df.set_index(pd.DatetimeIndex(df['Datetime']), drop=True, append=False, inplace=False, verify_integrity=False)"
   ]
  },
  {
   "cell_type": "code",
   "execution_count": 137,
   "id": "791b725e-aa3f-408d-ad10-8cb481b55993",
   "metadata": {},
   "outputs": [
    {
     "data": {
      "text/html": [
       "<div>\n",
       "<style scoped>\n",
       "    .dataframe tbody tr th:only-of-type {\n",
       "        vertical-align: middle;\n",
       "    }\n",
       "\n",
       "    .dataframe tbody tr th {\n",
       "        vertical-align: top;\n",
       "    }\n",
       "\n",
       "    .dataframe thead th {\n",
       "        text-align: right;\n",
       "    }\n",
       "</style>\n",
       "<table border=\"1\" class=\"dataframe\">\n",
       "  <thead>\n",
       "    <tr style=\"text-align: right;\">\n",
       "      <th></th>\n",
       "      <th>Datetime</th>\n",
       "      <th>Open</th>\n",
       "      <th>High</th>\n",
       "      <th>Low</th>\n",
       "      <th>Close</th>\n",
       "      <th>Adj Close</th>\n",
       "      <th>Volume</th>\n",
       "    </tr>\n",
       "    <tr>\n",
       "      <th>Datetime</th>\n",
       "      <th></th>\n",
       "      <th></th>\n",
       "      <th></th>\n",
       "      <th></th>\n",
       "      <th></th>\n",
       "      <th></th>\n",
       "      <th></th>\n",
       "    </tr>\n",
       "  </thead>\n",
       "  <tbody>\n",
       "    <tr>\n",
       "      <th>2022-01-26 00:45:00+00:00</th>\n",
       "      <td>2022-01-26 00:45:00+00:00</td>\n",
       "      <td>2448.03</td>\n",
       "      <td>2448.03</td>\n",
       "      <td>2437.05</td>\n",
       "      <td>2437.05</td>\n",
       "      <td>2437.05</td>\n",
       "      <td>1313792</td>\n",
       "    </tr>\n",
       "    <tr>\n",
       "      <th>2022-01-26 00:50:00+00:00</th>\n",
       "      <td>2022-01-26 00:50:00+00:00</td>\n",
       "      <td>2436.73</td>\n",
       "      <td>2436.73</td>\n",
       "      <td>2432.26</td>\n",
       "      <td>2432.26</td>\n",
       "      <td>2432.26</td>\n",
       "      <td>15685632</td>\n",
       "    </tr>\n",
       "    <tr>\n",
       "      <th>2022-01-26 00:55:00+00:00</th>\n",
       "      <td>2022-01-26 00:55:00+00:00</td>\n",
       "      <td>2429.28</td>\n",
       "      <td>2429.28</td>\n",
       "      <td>2426.58</td>\n",
       "      <td>2427.48</td>\n",
       "      <td>2427.48</td>\n",
       "      <td>6836224</td>\n",
       "    </tr>\n",
       "    <tr>\n",
       "      <th>2022-01-26 01:00:00+00:00</th>\n",
       "      <td>2022-01-26 01:00:00+00:00</td>\n",
       "      <td>2427.53</td>\n",
       "      <td>2427.53</td>\n",
       "      <td>2427.53</td>\n",
       "      <td>2427.53</td>\n",
       "      <td>2427.53</td>\n",
       "      <td>0</td>\n",
       "    </tr>\n",
       "    <tr>\n",
       "      <th>2022-01-26 01:01:00+00:00</th>\n",
       "      <td>2022-01-26 01:01:00+00:00</td>\n",
       "      <td>2427.45</td>\n",
       "      <td>2427.45</td>\n",
       "      <td>2427.45</td>\n",
       "      <td>2427.45</td>\n",
       "      <td>2427.45</td>\n",
       "      <td>0</td>\n",
       "    </tr>\n",
       "  </tbody>\n",
       "</table>\n",
       "</div>"
      ],
      "text/plain": [
       "                                            Datetime     Open     High  \\\n",
       "Datetime                                                                 \n",
       "2022-01-26 00:45:00+00:00  2022-01-26 00:45:00+00:00  2448.03  2448.03   \n",
       "2022-01-26 00:50:00+00:00  2022-01-26 00:50:00+00:00  2436.73  2436.73   \n",
       "2022-01-26 00:55:00+00:00  2022-01-26 00:55:00+00:00  2429.28  2429.28   \n",
       "2022-01-26 01:00:00+00:00  2022-01-26 01:00:00+00:00  2427.53  2427.53   \n",
       "2022-01-26 01:01:00+00:00  2022-01-26 01:01:00+00:00  2427.45  2427.45   \n",
       "\n",
       "                               Low    Close  Adj Close    Volume  \n",
       "Datetime                                                          \n",
       "2022-01-26 00:45:00+00:00  2437.05  2437.05    2437.05   1313792  \n",
       "2022-01-26 00:50:00+00:00  2432.26  2432.26    2432.26  15685632  \n",
       "2022-01-26 00:55:00+00:00  2426.58  2427.48    2427.48   6836224  \n",
       "2022-01-26 01:00:00+00:00  2427.53  2427.53    2427.53         0  \n",
       "2022-01-26 01:01:00+00:00  2427.45  2427.45    2427.45         0  "
      ]
     },
     "execution_count": 137,
     "metadata": {},
     "output_type": "execute_result"
    }
   ],
   "source": [
    "df.tail()"
   ]
  },
  {
   "cell_type": "code",
   "execution_count": 55,
   "id": "ed1f63cc-0170-4f6b-aa74-ca65c4342788",
   "metadata": {},
   "outputs": [],
   "source": [
    "#This function accepts the column number for the features (X) and the target (y). It chunks the data up with a rolling window of Xt - window to predict Xt. It returns two numpy arrays of X and y.\n",
    "\n",
    "def window_data(df, window, feature_col_number, target_col_number):\n",
    "\n",
    "    X = []\n",
    "    y = []\n",
    "    for i in range(len(df) - window):\n",
    "        features = df.iloc[i : (i + window), feature_col_number]\n",
    "        target = df.iloc[(i + window), target_col_number]\n",
    "        X.append(features)\n",
    "        y.append(target)\n",
    "    return np.array(X), np.array(y).reshape(-1, 1)"
   ]
  },
  {
   "cell_type": "code",
   "execution_count": 56,
   "id": "995f3f13-2bbb-4386-9865-f012b6e36160",
   "metadata": {},
   "outputs": [
    {
     "name": "stdout",
     "output_type": "stream",
     "text": [
      "X sample values:\n",
      "[[3536.39 3538.47 3538.91 3546.87 3531.4  3534.06 3540.78 3546.69 3542.01\n",
      "  3540.03 3544.24 3546.51 3540.55 3535.53 3532.08 3540.63 3539.88 3535.56\n",
      "  3528.   3529.55 3530.38 3529.38 3522.68 3525.25 3523.72]\n",
      " [3538.47 3538.91 3546.87 3531.4  3534.06 3540.78 3546.69 3542.01 3540.03\n",
      "  3544.24 3546.51 3540.55 3535.53 3532.08 3540.63 3539.88 3535.56 3528.\n",
      "  3529.55 3530.38 3529.38 3522.68 3525.25 3523.72 3530.46]] \n",
      "\n",
      "y sample values:\n",
      "[[3530.46]\n",
      " [3520.64]]\n"
     ]
    }
   ],
   "source": [
    "# Creating the features (X) and target (y) data using the window_data() function.\n",
    "window_size = 25\n",
    "\n",
    "feature_column = 4\n",
    "target_column = 4\n",
    "X, y = window_data(df, window_size, feature_column, target_column)\n",
    "print (f\"X sample values:\\n{X[:2]} \\n\")\n",
    "print (f\"y sample values:\\n{y[:2]}\")"
   ]
  },
  {
   "cell_type": "code",
   "execution_count": 57,
   "id": "5947ca38-dc76-4642-b192-e7187cf34db7",
   "metadata": {},
   "outputs": [
    {
     "data": {
      "text/plain": [
       "(5675, 25)"
      ]
     },
     "execution_count": 57,
     "metadata": {},
     "output_type": "execute_result"
    }
   ],
   "source": [
    "X.shape"
   ]
  },
  {
   "cell_type": "code",
   "execution_count": 58,
   "id": "a7407794-561b-4098-a2da-8dc2f310bc7e",
   "metadata": {},
   "outputs": [
    {
     "data": {
      "text/plain": [
       "(5675, 1)"
      ]
     },
     "execution_count": 58,
     "metadata": {},
     "output_type": "execute_result"
    }
   ],
   "source": [
    "y.shape"
   ]
  },
  {
   "cell_type": "code",
   "execution_count": 59,
   "id": "3e9197ea-e1be-49dd-86f9-105540867fbc",
   "metadata": {},
   "outputs": [],
   "source": [
    "# Use 70% of the data for training and the remainder for testing\n",
    "split = int(0.80 * len(X))\n",
    "X_train = X[: split]\n",
    "X_test = X[split:]\n",
    "y_train = y[: split]\n",
    "y_test = y[split:]"
   ]
  },
  {
   "cell_type": "code",
   "execution_count": 60,
   "id": "642e6927-bef2-4fe6-8cf4-96c9895718d5",
   "metadata": {},
   "outputs": [
    {
     "data": {
      "text/plain": [
       "(4540, 25)"
      ]
     },
     "execution_count": 60,
     "metadata": {},
     "output_type": "execute_result"
    }
   ],
   "source": [
    "X_train.shape"
   ]
  },
  {
   "cell_type": "code",
   "execution_count": 61,
   "id": "8599762e-2ae7-40eb-8079-841374678e5e",
   "metadata": {},
   "outputs": [
    {
     "data": {
      "text/plain": [
       "(4540, 1)"
      ]
     },
     "execution_count": 61,
     "metadata": {},
     "output_type": "execute_result"
    }
   ],
   "source": [
    "y_train.shape"
   ]
  },
  {
   "cell_type": "code",
   "execution_count": 62,
   "id": "1675fbc6-0030-4b01-abbb-d3572120a57f",
   "metadata": {},
   "outputs": [],
   "source": [
    "# Use the MinMaxScaler to scale data between 0 and 1.\n",
    "from sklearn.preprocessing import MinMaxScaler\n",
    "\n",
    "# Create a MinMaxScaler object\n",
    "scaler = MinMaxScaler()\n",
    "\n",
    "# Fit the MinMaxScaler object with the training feature data X_train\n",
    "scaler.fit(X_train)\n",
    "\n",
    "# Scale the features training and testing sets\n",
    "X_train = scaler.transform(X_train)\n",
    "X_test = scaler.transform(X_test)\n",
    "\n",
    "# Fit the MinMaxScaler object with the training target data y_train\n",
    "scaler.fit(y_train)\n",
    "\n",
    "# Scale the target training and testing sets\n",
    "y_train = scaler.transform(y_train)\n",
    "y_test = scaler.transform(y_test)"
   ]
  },
  {
   "cell_type": "code",
   "execution_count": 63,
   "id": "bf26c171-5119-4a7f-b115-06510bbbccb1",
   "metadata": {
    "tags": []
   },
   "outputs": [],
   "source": [
    "# Reshape the features for the model\n",
    "X_train = X_train.reshape((X_train.shape[0], X_train.shape[1], 1))\n",
    "X_test = X_test.reshape((X_test.shape[0], X_test.shape[1], 1))\n"
   ]
  },
  {
   "cell_type": "code",
   "execution_count": 64,
   "id": "28eea673-734a-4a4f-b87c-3d0c245bf74b",
   "metadata": {},
   "outputs": [],
   "source": [
    "# Import required Keras modules\n",
    "from tensorflow.keras.models import Sequential\n",
    "from tensorflow.keras.layers import LSTM, Dense, Dropout"
   ]
  },
  {
   "cell_type": "code",
   "execution_count": 65,
   "id": "625072cc-c4a7-4e11-9d97-8021840afdeb",
   "metadata": {},
   "outputs": [],
   "source": [
    "# Define the LSTM RNN model.\n",
    "model = Sequential()\n",
    "\n",
    "number_units = 25\n",
    "dropout_fraction = 0.3\n",
    "\n",
    "# Layer 1\n",
    "model.add(LSTM(\n",
    "    units=number_units,\n",
    "    return_sequences=True,\n",
    "    input_shape=(X_train.shape[1], 1))\n",
    "    )\n",
    "model.add(Dropout(dropout_fraction))\n",
    "\n",
    "# Layer 2\n",
    "model.add(LSTM(units=number_units, return_sequences=True))\n",
    "model.add(Dropout(dropout_fraction))\n",
    "\n",
    "# Layer 3\n",
    "model.add(LSTM(units=number_units))\n",
    "model.add(Dropout(dropout_fraction))\n",
    "\n",
    "# Output layer\n",
    "model.add(Dense(1))"
   ]
  },
  {
   "cell_type": "code",
   "execution_count": 66,
   "id": "31601024-afb9-4c25-82fc-c3d5673bd8a7",
   "metadata": {},
   "outputs": [],
   "source": [
    "# Compile the model\n",
    "model.compile(optimizer=\"adam\", loss=\"mean_squared_error\")"
   ]
  },
  {
   "cell_type": "code",
   "execution_count": 67,
   "id": "d2982f2b-28c7-45fc-ba19-e5aadcc78cb2",
   "metadata": {},
   "outputs": [
    {
     "name": "stdout",
     "output_type": "stream",
     "text": [
      "Model: \"sequential_1\"\n",
      "_________________________________________________________________\n",
      " Layer (type)                Output Shape              Param #   \n",
      "=================================================================\n",
      " lstm_3 (LSTM)               (None, 25, 25)            2700      \n",
      "                                                                 \n",
      " dropout_3 (Dropout)         (None, 25, 25)            0         \n",
      "                                                                 \n",
      " lstm_4 (LSTM)               (None, 25, 25)            5100      \n",
      "                                                                 \n",
      " dropout_4 (Dropout)         (None, 25, 25)            0         \n",
      "                                                                 \n",
      " lstm_5 (LSTM)               (None, 25)                5100      \n",
      "                                                                 \n",
      " dropout_5 (Dropout)         (None, 25)                0         \n",
      "                                                                 \n",
      " dense_1 (Dense)             (None, 1)                 26        \n",
      "                                                                 \n",
      "=================================================================\n",
      "Total params: 12,926\n",
      "Trainable params: 12,926\n",
      "Non-trainable params: 0\n",
      "_________________________________________________________________\n"
     ]
    }
   ],
   "source": [
    "# Summarize the model\n",
    "model.summary()"
   ]
  },
  {
   "cell_type": "code",
   "execution_count": 135,
   "id": "530ed335-bf0c-4dff-9563-c5b2e16d7da3",
   "metadata": {},
   "outputs": [
    {
     "name": "stdout",
     "output_type": "stream",
     "text": [
      "Epoch 1/100\n",
      "48/48 [==============================] - 1s 23ms/step - loss: 0.0012\n",
      "Epoch 2/100\n",
      "48/48 [==============================] - 1s 22ms/step - loss: 0.0019\n",
      "Epoch 3/100\n",
      "48/48 [==============================] - 1s 23ms/step - loss: 0.0041\n",
      "Epoch 4/100\n",
      "48/48 [==============================] - 1s 22ms/step - loss: 0.0022: 0s - loss: 0.0\n",
      "Epoch 5/100\n",
      "48/48 [==============================] - 1s 22ms/step - loss: 0.0023\n",
      "Epoch 6/100\n",
      "48/48 [==============================] - 1s 21ms/step - loss: 0.0026\n",
      "Epoch 7/100\n",
      "48/48 [==============================] - 1s 21ms/step - loss: 0.0040\n",
      "Epoch 8/100\n",
      "48/48 [==============================] - 1s 22ms/step - loss: 6.5573e-04\n",
      "Epoch 9/100\n",
      "48/48 [==============================] - 1s 25ms/step - loss: 7.3836e-04\n",
      "Epoch 10/100\n",
      "48/48 [==============================] - 1s 23ms/step - loss: 6.8181e-04\n",
      "Epoch 11/100\n",
      "48/48 [==============================] - 1s 25ms/step - loss: 6.1681e-04\n",
      "Epoch 12/100\n",
      "48/48 [==============================] - 1s 31ms/step - loss: 6.3258e-04\n",
      "Epoch 13/100\n",
      "48/48 [==============================] - 1s 25ms/step - loss: 6.8445e-04\n",
      "Epoch 14/100\n",
      "48/48 [==============================] - 1s 27ms/step - loss: 6.4610e-04\n",
      "Epoch 15/100\n",
      "48/48 [==============================] - 1s 24ms/step - loss: 8.5791e-04\n",
      "Epoch 16/100\n",
      "48/48 [==============================] - 1s 26ms/step - loss: 0.0014\n",
      "Epoch 17/100\n",
      "48/48 [==============================] - 1s 24ms/step - loss: 0.0013\n",
      "Epoch 18/100\n",
      "48/48 [==============================] - 1s 24ms/step - loss: 0.0020\n",
      "Epoch 19/100\n",
      "48/48 [==============================] - 1s 25ms/step - loss: 6.3813e-04\n",
      "Epoch 20/100\n",
      "48/48 [==============================] - 1s 26ms/step - loss: 6.3206e-04\n",
      "Epoch 21/100\n",
      "48/48 [==============================] - 1s 24ms/step - loss: 5.7711e-04\n",
      "Epoch 22/100\n",
      "48/48 [==============================] - 1s 24ms/step - loss: 5.4124e-04\n",
      "Epoch 23/100\n",
      "48/48 [==============================] - 1s 25ms/step - loss: 6.2643e-04\n",
      "Epoch 24/100\n",
      "48/48 [==============================] - 1s 25ms/step - loss: 6.1467e-04: 0s - loss: 5.8862e-0\n",
      "Epoch 25/100\n",
      "48/48 [==============================] - 1s 29ms/step - loss: 6.3384e-04\n",
      "Epoch 26/100\n",
      "48/48 [==============================] - 1s 27ms/step - loss: 7.8210e-04\n",
      "Epoch 27/100\n",
      "48/48 [==============================] - 1s 28ms/step - loss: 0.0013\n",
      "Epoch 28/100\n",
      "48/48 [==============================] - 1s 28ms/step - loss: 0.0020\n",
      "Epoch 29/100\n",
      "48/48 [==============================] - 2s 31ms/step - loss: 0.0042\n",
      "Epoch 30/100\n",
      "48/48 [==============================] - 1s 28ms/step - loss: 8.2823e-04\n",
      "Epoch 31/100\n",
      "48/48 [==============================] - 1s 25ms/step - loss: 7.1519e-04\n",
      "Epoch 32/100\n",
      "48/48 [==============================] - 1s 28ms/step - loss: 6.1620e-04: 0s -\n",
      "Epoch 33/100\n",
      "48/48 [==============================] - 1s 26ms/step - loss: 5.9613e-04\n",
      "Epoch 34/100\n",
      "48/48 [==============================] - 1s 26ms/step - loss: 5.8027e-04\n",
      "Epoch 35/100\n",
      "48/48 [==============================] - 1s 25ms/step - loss: 5.9319e-04\n",
      "Epoch 36/100\n",
      "48/48 [==============================] - 1s 25ms/step - loss: 5.9160e-04\n",
      "Epoch 37/100\n",
      "48/48 [==============================] - 1s 25ms/step - loss: 6.3060e-04\n",
      "Epoch 38/100\n",
      "48/48 [==============================] - 1s 25ms/step - loss: 8.5485e-04\n",
      "Epoch 39/100\n",
      "48/48 [==============================] - 1s 26ms/step - loss: 5.9806e-04\n",
      "Epoch 40/100\n",
      "48/48 [==============================] - 1s 26ms/step - loss: 5.6831e-04\n",
      "Epoch 41/100\n",
      "48/48 [==============================] - 1s 25ms/step - loss: 5.8990e-04\n",
      "Epoch 42/100\n",
      "48/48 [==============================] - 1s 26ms/step - loss: 6.7723e-04\n",
      "Epoch 43/100\n",
      "48/48 [==============================] - 1s 25ms/step - loss: 6.8084e-04\n",
      "Epoch 44/100\n",
      "48/48 [==============================] - 1s 28ms/step - loss: 7.6312e-04\n",
      "Epoch 45/100\n",
      "48/48 [==============================] - 1s 29ms/step - loss: 8.5404e-04\n",
      "Epoch 46/100\n",
      "48/48 [==============================] - 1s 30ms/step - loss: 0.0015\n",
      "Epoch 47/100\n",
      "48/48 [==============================] - 1s 27ms/step - loss: 0.0022\n",
      "Epoch 48/100\n",
      "48/48 [==============================] - 1s 29ms/step - loss: 0.0038\n",
      "Epoch 49/100\n",
      "48/48 [==============================] - 1s 28ms/step - loss: 0.0014\n",
      "Epoch 50/100\n",
      "48/48 [==============================] - 1s 27ms/step - loss: 0.0013\n",
      "Epoch 51/100\n",
      "48/48 [==============================] - 1s 25ms/step - loss: 7.3269e-04\n",
      "Epoch 52/100\n",
      "48/48 [==============================] - 1s 24ms/step - loss: 6.0606e-04\n",
      "Epoch 53/100\n",
      "48/48 [==============================] - 1s 24ms/step - loss: 5.8788e-04\n",
      "Epoch 54/100\n",
      "48/48 [==============================] - 1s 24ms/step - loss: 6.0220e-04\n",
      "Epoch 55/100\n",
      "48/48 [==============================] - 1s 28ms/step - loss: 7.1373e-04\n",
      "Epoch 56/100\n",
      "48/48 [==============================] - 2s 32ms/step - loss: 8.3646e-04\n",
      "Epoch 57/100\n",
      "48/48 [==============================] - 1s 28ms/step - loss: 0.0011\n",
      "Epoch 58/100\n",
      "48/48 [==============================] - 1s 26ms/step - loss: 6.6717e-04\n",
      "Epoch 59/100\n",
      "48/48 [==============================] - 1s 26ms/step - loss: 7.4541e-04\n",
      "Epoch 60/100\n",
      "48/48 [==============================] - 1s 27ms/step - loss: 9.0591e-04\n",
      "Epoch 61/100\n",
      "48/48 [==============================] - 1s 27ms/step - loss: 0.0013\n",
      "Epoch 62/100\n",
      "48/48 [==============================] - 1s 27ms/step - loss: 0.0012\n",
      "Epoch 63/100\n",
      "48/48 [==============================] - 1s 26ms/step - loss: 0.0015\n",
      "Epoch 64/100\n",
      "48/48 [==============================] - 1s 26ms/step - loss: 8.0312e-04\n",
      "Epoch 65/100\n",
      "48/48 [==============================] - 1s 28ms/step - loss: 6.8179e-04\n",
      "Epoch 66/100\n",
      "48/48 [==============================] - 1s 26ms/step - loss: 6.2335e-04\n",
      "Epoch 67/100\n",
      "48/48 [==============================] - 1s 26ms/step - loss: 8.2006e-04\n",
      "Epoch 68/100\n",
      "48/48 [==============================] - 1s 27ms/step - loss: 6.7041e-04\n",
      "Epoch 69/100\n",
      "48/48 [==============================] - 1s 27ms/step - loss: 8.2347e-04\n",
      "Epoch 70/100\n",
      "48/48 [==============================] - 1s 27ms/step - loss: 8.7122e-04\n",
      "Epoch 71/100\n",
      "48/48 [==============================] - 1s 26ms/step - loss: 0.0013\n",
      "Epoch 72/100\n",
      "48/48 [==============================] - 1s 26ms/step - loss: 0.0012\n",
      "Epoch 73/100\n",
      "48/48 [==============================] - 1s 27ms/step - loss: 0.0021\n",
      "Epoch 74/100\n",
      "48/48 [==============================] - 1s 28ms/step - loss: 0.0013\n",
      "Epoch 75/100\n",
      "48/48 [==============================] - 1s 27ms/step - loss: 9.2146e-04\n",
      "Epoch 76/100\n",
      "48/48 [==============================] - 1s 26ms/step - loss: 6.4084e-04\n",
      "Epoch 77/100\n",
      "48/48 [==============================] - 1s 27ms/step - loss: 5.7791e-04\n",
      "Epoch 78/100\n",
      "48/48 [==============================] - 1s 27ms/step - loss: 5.8878e-04\n",
      "Epoch 79/100\n",
      "48/48 [==============================] - 1s 30ms/step - loss: 5.9532e-04\n",
      "Epoch 80/100\n",
      "48/48 [==============================] - 1s 25ms/step - loss: 6.5749e-04\n",
      "Epoch 81/100\n",
      "48/48 [==============================] - 1s 26ms/step - loss: 8.3330e-04\n",
      "Epoch 82/100\n",
      "48/48 [==============================] - 1s 25ms/step - loss: 0.0012\n",
      "Epoch 83/100\n",
      "48/48 [==============================] - 1s 26ms/step - loss: 0.0012: 0s \n",
      "Epoch 84/100\n",
      "48/48 [==============================] - 1s 31ms/step - loss: 0.0019\n",
      "Epoch 85/100\n",
      "48/48 [==============================] - 2s 33ms/step - loss: 7.8676e-04\n",
      "Epoch 86/100\n",
      "48/48 [==============================] - 2s 37ms/step - loss: 9.1365e-04\n",
      "Epoch 87/100\n",
      "48/48 [==============================] - 2s 36ms/step - loss: 9.1807e-04: 0s - loss: 8.\n",
      "Epoch 88/100\n",
      "48/48 [==============================] - 2s 35ms/step - loss: 9.0062e-04\n",
      "Epoch 89/100\n",
      "48/48 [==============================] - 2s 33ms/step - loss: 7.8034e-04\n",
      "Epoch 90/100\n",
      "48/48 [==============================] - 1s 29ms/step - loss: 7.5593e-04\n",
      "Epoch 91/100\n",
      "48/48 [==============================] - 1s 28ms/step - loss: 9.0291e-04: 0s - loss\n",
      "Epoch 92/100\n",
      "48/48 [==============================] - 2s 34ms/step - loss: 9.0173e-04\n",
      "Epoch 93/100\n",
      "48/48 [==============================] - 1s 27ms/step - loss: 0.0014\n",
      "Epoch 94/100\n",
      "48/48 [==============================] - 2s 32ms/step - loss: 0.0021\n",
      "Epoch 95/100\n",
      "48/48 [==============================] - 2s 36ms/step - loss: 6.3569e-04\n",
      "Epoch 96/100\n",
      "48/48 [==============================] - 1s 31ms/step - loss: 6.2710e-04\n",
      "Epoch 97/100\n",
      "48/48 [==============================] - 1s 30ms/step - loss: 6.2990e-04\n",
      "Epoch 98/100\n",
      "48/48 [==============================] - 2s 34ms/step - loss: 5.7263e-04\n",
      "Epoch 99/100\n",
      "48/48 [==============================] - 1s 30ms/step - loss: 6.6216e-04\n",
      "Epoch 100/100\n",
      "48/48 [==============================] - 1s 28ms/step - loss: 0.0013\n"
     ]
    },
    {
     "data": {
      "text/plain": [
       "<keras.callbacks.History at 0x181f6c82220>"
      ]
     },
     "execution_count": 135,
     "metadata": {},
     "output_type": "execute_result"
    }
   ],
   "source": [
    "# Train the model\n",
    "model.fit(X_train, y_train, epochs=100, shuffle=False, batch_size=96)"
   ]
  },
  {
   "cell_type": "code",
   "execution_count": 138,
   "id": "d8ee50a6-eb65-4726-98f0-0d0abdd11db2",
   "metadata": {},
   "outputs": [
    {
     "data": {
      "text/plain": [
       "(1135, 1)"
      ]
     },
     "execution_count": 138,
     "metadata": {},
     "output_type": "execute_result"
    }
   ],
   "source": [
    "# Make some predictions\n",
    "predicted = model.predict(X_test)\n",
    "predicted.shape"
   ]
  },
  {
   "cell_type": "code",
   "execution_count": 139,
   "id": "9140520c-fa55-4f2e-8877-b057f094f160",
   "metadata": {},
   "outputs": [],
   "source": [
    "# Recover the original prices instead of the scaled version\n",
    "predicted_prices = scaler.inverse_transform(predicted)\n",
    "real_prices = scaler.inverse_transform(y_test.reshape(-1, 1))"
   ]
  },
  {
   "cell_type": "code",
   "execution_count": 140,
   "id": "56f1db14-074e-4495-a661-3fc00c5f008e",
   "metadata": {},
   "outputs": [
    {
     "data": {
      "text/html": [
       "<div>\n",
       "<style scoped>\n",
       "    .dataframe tbody tr th:only-of-type {\n",
       "        vertical-align: middle;\n",
       "    }\n",
       "\n",
       "    .dataframe tbody tr th {\n",
       "        vertical-align: top;\n",
       "    }\n",
       "\n",
       "    .dataframe thead th {\n",
       "        text-align: right;\n",
       "    }\n",
       "</style>\n",
       "<table border=\"1\" class=\"dataframe\">\n",
       "  <thead>\n",
       "    <tr style=\"text-align: right;\">\n",
       "      <th></th>\n",
       "      <th>Real</th>\n",
       "      <th>Predicted</th>\n",
       "    </tr>\n",
       "    <tr>\n",
       "      <th>Datetime</th>\n",
       "      <th></th>\n",
       "      <th></th>\n",
       "    </tr>\n",
       "  </thead>\n",
       "  <tbody>\n",
       "    <tr>\n",
       "      <th>2022-01-22 00:25:00+00:00</th>\n",
       "      <td>2356.431134</td>\n",
       "      <td>2345.500977</td>\n",
       "    </tr>\n",
       "    <tr>\n",
       "      <th>2022-01-22 00:30:00+00:00</th>\n",
       "      <td>2364.097183</td>\n",
       "      <td>2346.339111</td>\n",
       "    </tr>\n",
       "    <tr>\n",
       "      <th>2022-01-22 00:35:00+00:00</th>\n",
       "      <td>2367.545122</td>\n",
       "      <td>2348.428467</td>\n",
       "    </tr>\n",
       "    <tr>\n",
       "      <th>2022-01-22 00:40:00+00:00</th>\n",
       "      <td>2366.382735</td>\n",
       "      <td>2351.297363</td>\n",
       "    </tr>\n",
       "    <tr>\n",
       "      <th>2022-01-22 00:45:00+00:00</th>\n",
       "      <td>2366.978191</td>\n",
       "      <td>2353.619629</td>\n",
       "    </tr>\n",
       "  </tbody>\n",
       "</table>\n",
       "</div>"
      ],
      "text/plain": [
       "                                  Real    Predicted\n",
       "Datetime                                           \n",
       "2022-01-22 00:25:00+00:00  2356.431134  2345.500977\n",
       "2022-01-22 00:30:00+00:00  2364.097183  2346.339111\n",
       "2022-01-22 00:35:00+00:00  2367.545122  2348.428467\n",
       "2022-01-22 00:40:00+00:00  2366.382735  2351.297363\n",
       "2022-01-22 00:45:00+00:00  2366.978191  2353.619629"
      ]
     },
     "execution_count": 140,
     "metadata": {},
     "output_type": "execute_result"
    }
   ],
   "source": [
    "# Create a DataFrame of Real and Predicted values\n",
    "stocks = pd.DataFrame({\n",
    "    \"Real\": real_prices.ravel(),\n",
    "    \"Predicted\": predicted_prices.ravel()\n",
    "    }, index = df.index[-len(real_prices): ])\n",
    "stocks.head()"
   ]
  },
  {
   "cell_type": "code",
   "execution_count": 141,
   "id": "902e1159-0807-4792-a0d3-c9745f227235",
   "metadata": {},
   "outputs": [],
   "source": [
    "conditions = [\n",
    "    (stocks['Real'] > stocks['Predicted'].shift(periods=-1)),\n",
    "    (stocks['Real'] < stocks['Predicted'].shift(periods=-1)),\n",
    "    (stocks['Real'] == stocks['Predicted'].shift(periods=-1))\n",
    "     ]\n",
    "\n",
    "values = ['-1', '1', '0']\n",
    "\n",
    "stocks['Signal'] = np.select(conditions, values)"
   ]
  },
  {
   "cell_type": "code",
   "execution_count": 142,
   "id": "3a45c6e5-1ba2-4188-a6a5-e01b71e116d9",
   "metadata": {},
   "outputs": [
    {
     "data": {
      "text/html": [
       "<div>\n",
       "<style scoped>\n",
       "    .dataframe tbody tr th:only-of-type {\n",
       "        vertical-align: middle;\n",
       "    }\n",
       "\n",
       "    .dataframe tbody tr th {\n",
       "        vertical-align: top;\n",
       "    }\n",
       "\n",
       "    .dataframe thead th {\n",
       "        text-align: right;\n",
       "    }\n",
       "</style>\n",
       "<table border=\"1\" class=\"dataframe\">\n",
       "  <thead>\n",
       "    <tr style=\"text-align: right;\">\n",
       "      <th></th>\n",
       "      <th>Real</th>\n",
       "      <th>Predicted</th>\n",
       "      <th>Signal</th>\n",
       "    </tr>\n",
       "    <tr>\n",
       "      <th>Datetime</th>\n",
       "      <th></th>\n",
       "      <th></th>\n",
       "      <th></th>\n",
       "    </tr>\n",
       "  </thead>\n",
       "  <tbody>\n",
       "    <tr>\n",
       "      <th>2022-01-26 00:35:00+00:00</th>\n",
       "      <td>2309.814426</td>\n",
       "      <td>2309.416992</td>\n",
       "      <td>-1</td>\n",
       "    </tr>\n",
       "    <tr>\n",
       "      <th>2022-01-26 00:40:00+00:00</th>\n",
       "      <td>2309.040689</td>\n",
       "      <td>2309.714844</td>\n",
       "      <td>1</td>\n",
       "    </tr>\n",
       "    <tr>\n",
       "      <th>2022-01-26 00:45:00+00:00</th>\n",
       "      <td>2304.833277</td>\n",
       "      <td>2310.136475</td>\n",
       "      <td>1</td>\n",
       "    </tr>\n",
       "    <tr>\n",
       "      <th>2022-01-26 00:50:00+00:00</th>\n",
       "      <td>2303.125352</td>\n",
       "      <td>2310.272705</td>\n",
       "      <td>1</td>\n",
       "    </tr>\n",
       "    <tr>\n",
       "      <th>2022-01-26 00:55:00+00:00</th>\n",
       "      <td>2301.420993</td>\n",
       "      <td>2309.882324</td>\n",
       "      <td>1</td>\n",
       "    </tr>\n",
       "    <tr>\n",
       "      <th>2022-01-26 01:00:00+00:00</th>\n",
       "      <td>2301.438821</td>\n",
       "      <td>2309.299072</td>\n",
       "      <td>1</td>\n",
       "    </tr>\n",
       "    <tr>\n",
       "      <th>2022-01-26 01:01:00+00:00</th>\n",
       "      <td>2301.410297</td>\n",
       "      <td>2308.754150</td>\n",
       "      <td>0</td>\n",
       "    </tr>\n",
       "  </tbody>\n",
       "</table>\n",
       "</div>"
      ],
      "text/plain": [
       "                                  Real    Predicted Signal\n",
       "Datetime                                                  \n",
       "2022-01-26 00:35:00+00:00  2309.814426  2309.416992     -1\n",
       "2022-01-26 00:40:00+00:00  2309.040689  2309.714844      1\n",
       "2022-01-26 00:45:00+00:00  2304.833277  2310.136475      1\n",
       "2022-01-26 00:50:00+00:00  2303.125352  2310.272705      1\n",
       "2022-01-26 00:55:00+00:00  2301.420993  2309.882324      1\n",
       "2022-01-26 01:00:00+00:00  2301.438821  2309.299072      1\n",
       "2022-01-26 01:01:00+00:00  2301.410297  2308.754150      0"
      ]
     },
     "execution_count": 142,
     "metadata": {},
     "output_type": "execute_result"
    }
   ],
   "source": [
    "stocks.tail(7)"
   ]
  },
  {
   "cell_type": "code",
   "execution_count": 176,
   "id": "349355f0-4393-46e5-b0ee-db4e0f881c8d",
   "metadata": {},
   "outputs": [],
   "source": [
    "import tensorflow as tf\n",
    "from tensorflow import keras"
   ]
  },
  {
   "cell_type": "code",
   "execution_count": 180,
   "id": "e2341c9f-0860-42b0-af48-0a0cc7c7dcca",
   "metadata": {},
   "outputs": [
    {
     "name": "stdout",
     "output_type": "stream",
     "text": [
      "296.93927\n"
     ]
    }
   ],
   "source": [
    "mseObject = keras.losses.MeanSquaredError()\n",
    "mseTensor = mseObject(stocks['Real'], stocks['Predicted'])\n",
    "mse = mseTensor.numpy()\n",
    "\n",
    "print(mse)"
   ]
  },
  {
   "cell_type": "code",
   "execution_count": 143,
   "id": "d9f31006-ff91-4214-9397-813c7c40e19a",
   "metadata": {},
   "outputs": [
    {
     "data": {
      "text/plain": [
       "<AxesSubplot:xlabel='Datetime'>"
      ]
     },
     "execution_count": 143,
     "metadata": {},
     "output_type": "execute_result"
    },
    {
     "data": {
      "image/png": "[encoded data removed]",
      "text/plain": [
       "<Figure size 432x288 with 1 Axes>"
      ]
     },
     "metadata": {
      "needs_background": "light"
     },
     "output_type": "display_data"
    }
   ],
   "source": [
    "# Plot the real vs predicted prices as a line chart\n",
    "stocks.plot()"
   ]
  },
  {
   "cell_type": "code",
   "execution_count": 144,
   "id": "91284405-bd3a-479a-90ed-dfb18568b07d",
   "metadata": {},
   "outputs": [
    {
     "name": "stdout",
     "output_type": "stream",
     "text": [
      "36/36 [==============================] - 0s 6ms/step - loss: 0.0022\n"
     ]
    },
    {
     "data": {
      "text/plain": [
       "0.002222033217549324"
      ]
     },
     "execution_count": 144,
     "metadata": {},
     "output_type": "execute_result"
    }
   ],
   "source": [
    "model.evaluate(X_test, y_test)"
   ]
  },
  {
   "cell_type": "code",
   "execution_count": 145,
   "id": "fe5ad550-caf3-46d1-bf39-8834445c21d5",
   "metadata": {},
   "outputs": [],
   "source": [
    "new_df = pd.read_csv(\n",
    "    Path(f\"{ticker}_prices_{inter}NEWDATA.csv\"),\n",
    "    parse_dates=True,\n",
    "    infer_datetime_format=True)"
   ]
  },
  {
   "cell_type": "code",
   "execution_count": 146,
   "id": "de3e7958-f48a-4a3f-b2e9-247c799f076f",
   "metadata": {},
   "outputs": [],
   "source": [
    "new_df = new_df.set_index(pd.DatetimeIndex(new_df['Datetime']), drop=True, append=False, inplace=False, verify_integrity=False)"
   ]
  },
  {
   "cell_type": "code",
   "execution_count": 147,
   "id": "a7cfe8e2-a42f-4cba-b9f7-2dd0146fc9a4",
   "metadata": {},
   "outputs": [
    {
     "data": {
      "text/html": [
       "<div>\n",
       "<style scoped>\n",
       "    .dataframe tbody tr th:only-of-type {\n",
       "        vertical-align: middle;\n",
       "    }\n",
       "\n",
       "    .dataframe tbody tr th {\n",
       "        vertical-align: top;\n",
       "    }\n",
       "\n",
       "    .dataframe thead th {\n",
       "        text-align: right;\n",
       "    }\n",
       "</style>\n",
       "<table border=\"1\" class=\"dataframe\">\n",
       "  <thead>\n",
       "    <tr style=\"text-align: right;\">\n",
       "      <th></th>\n",
       "      <th>Datetime</th>\n",
       "      <th>Open</th>\n",
       "      <th>High</th>\n",
       "      <th>Low</th>\n",
       "      <th>Close</th>\n",
       "      <th>Adj Close</th>\n",
       "      <th>Volume</th>\n",
       "    </tr>\n",
       "    <tr>\n",
       "      <th>Datetime</th>\n",
       "      <th></th>\n",
       "      <th></th>\n",
       "      <th></th>\n",
       "      <th></th>\n",
       "      <th></th>\n",
       "      <th></th>\n",
       "      <th></th>\n",
       "    </tr>\n",
       "  </thead>\n",
       "  <tbody>\n",
       "    <tr>\n",
       "      <th>2022-01-27 23:05:00+00:00</th>\n",
       "      <td>2022-01-27 23:05:00+00:00</td>\n",
       "      <td>2391.88</td>\n",
       "      <td>2398.28</td>\n",
       "      <td>2391.88</td>\n",
       "      <td>2398.28</td>\n",
       "      <td>2398.28</td>\n",
       "      <td>85396480</td>\n",
       "    </tr>\n",
       "    <tr>\n",
       "      <th>2022-01-27 23:10:00+00:00</th>\n",
       "      <td>2022-01-27 23:10:00+00:00</td>\n",
       "      <td>2405.00</td>\n",
       "      <td>2406.48</td>\n",
       "      <td>2404.70</td>\n",
       "      <td>2404.70</td>\n",
       "      <td>2404.70</td>\n",
       "      <td>49141760</td>\n",
       "    </tr>\n",
       "    <tr>\n",
       "      <th>2022-01-27 23:15:00+00:00</th>\n",
       "      <td>2022-01-27 23:15:00+00:00</td>\n",
       "      <td>2408.09</td>\n",
       "      <td>2412.15</td>\n",
       "      <td>2407.57</td>\n",
       "      <td>2407.57</td>\n",
       "      <td>2407.57</td>\n",
       "      <td>81558528</td>\n",
       "    </tr>\n",
       "    <tr>\n",
       "      <th>2022-01-27 23:20:00+00:00</th>\n",
       "      <td>2022-01-27 23:20:00+00:00</td>\n",
       "      <td>2405.66</td>\n",
       "      <td>2405.66</td>\n",
       "      <td>2405.66</td>\n",
       "      <td>2405.66</td>\n",
       "      <td>2405.66</td>\n",
       "      <td>7197696</td>\n",
       "    </tr>\n",
       "    <tr>\n",
       "      <th>2022-01-27 23:21:00+00:00</th>\n",
       "      <td>2022-01-27 23:21:00+00:00</td>\n",
       "      <td>2405.63</td>\n",
       "      <td>2405.63</td>\n",
       "      <td>2405.63</td>\n",
       "      <td>2405.63</td>\n",
       "      <td>2405.63</td>\n",
       "      <td>0</td>\n",
       "    </tr>\n",
       "  </tbody>\n",
       "</table>\n",
       "</div>"
      ],
      "text/plain": [
       "                                            Datetime     Open     High  \\\n",
       "Datetime                                                                 \n",
       "2022-01-27 23:05:00+00:00  2022-01-27 23:05:00+00:00  2391.88  2398.28   \n",
       "2022-01-27 23:10:00+00:00  2022-01-27 23:10:00+00:00  2405.00  2406.48   \n",
       "2022-01-27 23:15:00+00:00  2022-01-27 23:15:00+00:00  2408.09  2412.15   \n",
       "2022-01-27 23:20:00+00:00  2022-01-27 23:20:00+00:00  2405.66  2405.66   \n",
       "2022-01-27 23:21:00+00:00  2022-01-27 23:21:00+00:00  2405.63  2405.63   \n",
       "\n",
       "                               Low    Close  Adj Close    Volume  \n",
       "Datetime                                                          \n",
       "2022-01-27 23:05:00+00:00  2391.88  2398.28    2398.28  85396480  \n",
       "2022-01-27 23:10:00+00:00  2404.70  2404.70    2404.70  49141760  \n",
       "2022-01-27 23:15:00+00:00  2407.57  2407.57    2407.57  81558528  \n",
       "2022-01-27 23:20:00+00:00  2405.66  2405.66    2405.66   7197696  \n",
       "2022-01-27 23:21:00+00:00  2405.63  2405.63    2405.63         0  "
      ]
     },
     "execution_count": 147,
     "metadata": {},
     "output_type": "execute_result"
    }
   ],
   "source": [
    "new_df.tail()"
   ]
  },
  {
   "cell_type": "code",
   "execution_count": 148,
   "id": "59d3cd5f-b10d-4f99-9009-769bd1797b52",
   "metadata": {},
   "outputs": [
    {
     "data": {
      "text/plain": [
       "(510, 7)"
      ]
     },
     "execution_count": 148,
     "metadata": {},
     "output_type": "execute_result"
    }
   ],
   "source": [
    "new_df.shape"
   ]
  },
  {
   "cell_type": "code",
   "execution_count": 150,
   "id": "8ae1f9ba-eac0-40ec-8439-734fc52a9286",
   "metadata": {
    "tags": []
   },
   "outputs": [
    {
     "name": "stdout",
     "output_type": "stream",
     "text": [
      "X sample values:\n",
      "[[2496.69 2490.3  2487.04 2486.21 2487.7  2486.63 2486.01 2485.92 2488.95\n",
      "  2492.66 2486.71 2480.19 2480.11 2479.03 2479.02 2482.92 2481.09 2475.5\n",
      "  2467.01 2462.53 2461.94 2455.84 2453.94 2453.34 2451.24]\n",
      " [2490.3  2487.04 2486.21 2487.7  2486.63 2486.01 2485.92 2488.95 2492.66\n",
      "  2486.71 2480.19 2480.11 2479.03 2479.02 2482.92 2481.09 2475.5  2467.01\n",
      "  2462.53 2461.94 2455.84 2453.94 2453.34 2451.24 2449.87]] \n",
      "\n",
      "y sample values:\n",
      "[[2449.87]\n",
      " [2450.3 ]]\n"
     ]
    }
   ],
   "source": [
    "# Creating the features (X) and target (y) data using the window_data() function.\n",
    "window_size = 25\n",
    "\n",
    "feature_column = 4\n",
    "target_column = 4\n",
    "X_new, y_new = window_data(new_df, window_size, feature_column, target_column)\n",
    "print (f\"X sample values:\\n{X_new[:2]} \\n\")\n",
    "print (f\"y sample values:\\n{y_new[:2]}\")"
   ]
  },
  {
   "cell_type": "code",
   "execution_count": 151,
   "id": "f2e94fa8-e98c-4fe1-8866-46b24e7108cb",
   "metadata": {},
   "outputs": [
    {
     "data": {
      "text/plain": [
       "array([[2496.69, 2490.3 , 2487.04, ..., 2453.94, 2453.34, 2451.24],\n",
       "       [2490.3 , 2487.04, 2486.21, ..., 2453.34, 2451.24, 2449.87],\n",
       "       [2487.04, 2486.21, 2487.7 , ..., 2451.24, 2449.87, 2450.3 ],\n",
       "       ...,\n",
       "       [2334.52, 2329.14, 2331.66, ..., 2390.56, 2398.28, 2404.7 ],\n",
       "       [2329.14, 2331.66, 2335.21, ..., 2398.28, 2404.7 , 2407.57],\n",
       "       [2331.66, 2335.21, 2334.9 , ..., 2404.7 , 2407.57, 2405.66]])"
      ]
     },
     "execution_count": 151,
     "metadata": {},
     "output_type": "execute_result"
    }
   ],
   "source": [
    "X_new"
   ]
  },
  {
   "cell_type": "code",
   "execution_count": 152,
   "id": "11f14a4c-7f5a-4f96-927f-b726b08db4b5",
   "metadata": {},
   "outputs": [
    {
     "data": {
      "text/plain": [
       "(485, 1)"
      ]
     },
     "execution_count": 152,
     "metadata": {},
     "output_type": "execute_result"
    }
   ],
   "source": [
    "y_new.shape"
   ]
  },
  {
   "cell_type": "code",
   "execution_count": 153,
   "id": "ca6f2dcc-78e6-4b0c-89ce-47fbc1883cde",
   "metadata": {},
   "outputs": [],
   "source": [
    "# Use 70% of the data for training and the remainder for testing\n",
    "X_new_test = X_new.copy()\n",
    "y_new_test = y_new.copy()"
   ]
  },
  {
   "cell_type": "code",
   "execution_count": 154,
   "id": "e9448867-c901-43c5-b54a-387ccee3894d",
   "metadata": {},
   "outputs": [],
   "source": [
    "# Use the MinMaxScaler to scale data between 0 and 1.\n",
    "from sklearn.preprocessing import MinMaxScaler\n",
    "\n",
    "# Create a MinMaxScaler object\n",
    "scaler = MinMaxScaler()\n",
    "\n",
    "# Fit the MinMaxScaler object with the new feature data\n",
    "scaler.fit(X_new)\n",
    "X_new_test = scaler.transform(X_new)\n",
    "\n",
    "# Fit the MinMaxScaler object with the new target data <- VERY IMPORTANT\n",
    "scaler.fit(y_new)\n",
    "y_new_test = scaler.transform(y_new_test)\n"
   ]
  },
  {
   "cell_type": "code",
   "execution_count": 155,
   "id": "09d17420-d8a0-456f-8def-fdb646235d67",
   "metadata": {},
   "outputs": [
    {
     "data": {
      "text/plain": [
       "(485, 1)"
      ]
     },
     "execution_count": 155,
     "metadata": {},
     "output_type": "execute_result"
    }
   ],
   "source": [
    "# Make some predictions\n",
    "predicted_values_new = model.predict(X_new_test)\n",
    "predicted_values_new.shape"
   ]
  },
  {
   "cell_type": "code",
   "execution_count": 156,
   "id": "4062a7ef-b039-4a33-bdec-cb30f59ff760",
   "metadata": {},
   "outputs": [],
   "source": [
    "# this uses the scaler that was fit on the y_new data (which is shaped similarly as the predictions)\n",
    "predicted_prices = scaler.inverse_transform(predicted_values_new)"
   ]
  },
  {
   "cell_type": "code",
   "execution_count": 157,
   "id": "33dd5fa3-6716-4331-8385-8936a6283709",
   "metadata": {},
   "outputs": [
    {
     "data": {
      "text/html": [
       "<div>\n",
       "<style scoped>\n",
       "    .dataframe tbody tr th:only-of-type {\n",
       "        vertical-align: middle;\n",
       "    }\n",
       "\n",
       "    .dataframe tbody tr th {\n",
       "        vertical-align: top;\n",
       "    }\n",
       "\n",
       "    .dataframe thead th {\n",
       "        text-align: right;\n",
       "    }\n",
       "</style>\n",
       "<table border=\"1\" class=\"dataframe\">\n",
       "  <thead>\n",
       "    <tr style=\"text-align: right;\">\n",
       "      <th></th>\n",
       "      <th>Datetime</th>\n",
       "      <th>Open</th>\n",
       "      <th>High</th>\n",
       "      <th>Low</th>\n",
       "      <th>Close</th>\n",
       "      <th>Adj Close</th>\n",
       "      <th>Volume</th>\n",
       "    </tr>\n",
       "    <tr>\n",
       "      <th>Datetime</th>\n",
       "      <th></th>\n",
       "      <th></th>\n",
       "      <th></th>\n",
       "      <th></th>\n",
       "      <th></th>\n",
       "      <th></th>\n",
       "      <th></th>\n",
       "    </tr>\n",
       "  </thead>\n",
       "  <tbody>\n",
       "    <tr>\n",
       "      <th>2022-01-26 07:05:00+00:00</th>\n",
       "      <td>2022-01-26 07:05:00+00:00</td>\n",
       "      <td>2450.69</td>\n",
       "      <td>2450.84</td>\n",
       "      <td>2449.65</td>\n",
       "      <td>2449.87</td>\n",
       "      <td>2449.87</td>\n",
       "      <td>0</td>\n",
       "    </tr>\n",
       "    <tr>\n",
       "      <th>2022-01-26 07:10:00+00:00</th>\n",
       "      <td>2022-01-26 07:10:00+00:00</td>\n",
       "      <td>2450.15</td>\n",
       "      <td>2451.17</td>\n",
       "      <td>2450.15</td>\n",
       "      <td>2450.30</td>\n",
       "      <td>2450.30</td>\n",
       "      <td>120448000</td>\n",
       "    </tr>\n",
       "    <tr>\n",
       "      <th>2022-01-26 07:15:00+00:00</th>\n",
       "      <td>2022-01-26 07:15:00+00:00</td>\n",
       "      <td>2450.34</td>\n",
       "      <td>2451.55</td>\n",
       "      <td>2449.55</td>\n",
       "      <td>2451.55</td>\n",
       "      <td>2451.55</td>\n",
       "      <td>0</td>\n",
       "    </tr>\n",
       "    <tr>\n",
       "      <th>2022-01-26 07:20:00+00:00</th>\n",
       "      <td>2022-01-26 07:20:00+00:00</td>\n",
       "      <td>2452.55</td>\n",
       "      <td>2455.91</td>\n",
       "      <td>2452.55</td>\n",
       "      <td>2455.91</td>\n",
       "      <td>2455.91</td>\n",
       "      <td>42348544</td>\n",
       "    </tr>\n",
       "    <tr>\n",
       "      <th>2022-01-26 07:25:00+00:00</th>\n",
       "      <td>2022-01-26 07:25:00+00:00</td>\n",
       "      <td>2455.94</td>\n",
       "      <td>2455.94</td>\n",
       "      <td>2453.88</td>\n",
       "      <td>2454.14</td>\n",
       "      <td>2454.14</td>\n",
       "      <td>0</td>\n",
       "    </tr>\n",
       "  </tbody>\n",
       "</table>\n",
       "</div>"
      ],
      "text/plain": [
       "                                            Datetime     Open     High  \\\n",
       "Datetime                                                                 \n",
       "2022-01-26 07:05:00+00:00  2022-01-26 07:05:00+00:00  2450.69  2450.84   \n",
       "2022-01-26 07:10:00+00:00  2022-01-26 07:10:00+00:00  2450.15  2451.17   \n",
       "2022-01-26 07:15:00+00:00  2022-01-26 07:15:00+00:00  2450.34  2451.55   \n",
       "2022-01-26 07:20:00+00:00  2022-01-26 07:20:00+00:00  2452.55  2455.91   \n",
       "2022-01-26 07:25:00+00:00  2022-01-26 07:25:00+00:00  2455.94  2455.94   \n",
       "\n",
       "                               Low    Close  Adj Close     Volume  \n",
       "Datetime                                                           \n",
       "2022-01-26 07:05:00+00:00  2449.65  2449.87    2449.87          0  \n",
       "2022-01-26 07:10:00+00:00  2450.15  2450.30    2450.30  120448000  \n",
       "2022-01-26 07:15:00+00:00  2449.55  2451.55    2451.55          0  \n",
       "2022-01-26 07:20:00+00:00  2452.55  2455.91    2455.91   42348544  \n",
       "2022-01-26 07:25:00+00:00  2453.88  2454.14    2454.14          0  "
      ]
     },
     "execution_count": 157,
     "metadata": {},
     "output_type": "execute_result"
    }
   ],
   "source": [
    "predicted_df = new_df.iloc[25:510,].copy()\n",
    "predicted_df.head()"
   ]
  },
  {
   "cell_type": "code",
   "execution_count": 158,
   "id": "a64b7b22-0f7c-4c3b-9167-3c2b9c839a02",
   "metadata": {},
   "outputs": [
    {
     "data": {
      "text/plain": [
       "485"
      ]
     },
     "execution_count": 158,
     "metadata": {},
     "output_type": "execute_result"
    }
   ],
   "source": [
    "len(predicted_df)"
   ]
  },
  {
   "cell_type": "code",
   "execution_count": 159,
   "id": "1ab16513-7b6d-4458-b460-14f5b6851b50",
   "metadata": {},
   "outputs": [],
   "source": [
    "predicted_df_final = pd.DataFrame(index=predicted_df.index)"
   ]
  },
  {
   "cell_type": "code",
   "execution_count": 160,
   "id": "abb70c99-d288-45f9-8a7d-7bf1a45da888",
   "metadata": {},
   "outputs": [],
   "source": [
    "predicted_df_final[\"Actual_close\"]= new_df[\"Close\"]\n",
    "predicted_df_final[\"Predicted_close\"]= predicted_prices"
   ]
  },
  {
   "cell_type": "code",
   "execution_count": 161,
   "id": "4518eb57-a40d-4ca4-a906-15f51aed6c9a",
   "metadata": {},
   "outputs": [
    {
     "data": {
      "text/plain": [
       "<AxesSubplot:xlabel='Datetime'>"
      ]
     },
     "execution_count": 161,
     "metadata": {},
     "output_type": "execute_result"
    },
    {
     "data": {
      "image/png": "[encoded data removed]",
      "text/plain": [
       "<Figure size 432x288 with 1 Axes>"
      ]
     },
     "metadata": {
      "needs_background": "light"
     },
     "output_type": "display_data"
    }
   ],
   "source": [
    "predicted_df_final.plot()"
   ]
  },
  {
   "cell_type": "code",
   "execution_count": 162,
   "id": "fdec71db-2cf5-43c8-a297-b8e1699ca6dd",
   "metadata": {},
   "outputs": [
    {
     "data": {
      "text/html": [
       "<div>\n",
       "<style scoped>\n",
       "    .dataframe tbody tr th:only-of-type {\n",
       "        vertical-align: middle;\n",
       "    }\n",
       "\n",
       "    .dataframe tbody tr th {\n",
       "        vertical-align: top;\n",
       "    }\n",
       "\n",
       "    .dataframe thead th {\n",
       "        text-align: right;\n",
       "    }\n",
       "</style>\n",
       "<table border=\"1\" class=\"dataframe\">\n",
       "  <thead>\n",
       "    <tr style=\"text-align: right;\">\n",
       "      <th></th>\n",
       "      <th>Actual_close</th>\n",
       "      <th>Predicted_close</th>\n",
       "    </tr>\n",
       "    <tr>\n",
       "      <th>Datetime</th>\n",
       "      <th></th>\n",
       "      <th></th>\n",
       "    </tr>\n",
       "  </thead>\n",
       "  <tbody>\n",
       "    <tr>\n",
       "      <th>2022-01-27 23:05:00+00:00</th>\n",
       "      <td>2398.28</td>\n",
       "      <td>2370.945312</td>\n",
       "    </tr>\n",
       "    <tr>\n",
       "      <th>2022-01-27 23:10:00+00:00</th>\n",
       "      <td>2404.70</td>\n",
       "      <td>2375.122803</td>\n",
       "    </tr>\n",
       "    <tr>\n",
       "      <th>2022-01-27 23:15:00+00:00</th>\n",
       "      <td>2407.57</td>\n",
       "      <td>2381.019287</td>\n",
       "    </tr>\n",
       "    <tr>\n",
       "      <th>2022-01-27 23:20:00+00:00</th>\n",
       "      <td>2405.66</td>\n",
       "      <td>2387.413086</td>\n",
       "    </tr>\n",
       "    <tr>\n",
       "      <th>2022-01-27 23:21:00+00:00</th>\n",
       "      <td>2405.63</td>\n",
       "      <td>2392.341797</td>\n",
       "    </tr>\n",
       "  </tbody>\n",
       "</table>\n",
       "</div>"
      ],
      "text/plain": [
       "                           Actual_close  Predicted_close\n",
       "Datetime                                                \n",
       "2022-01-27 23:05:00+00:00       2398.28      2370.945312\n",
       "2022-01-27 23:10:00+00:00       2404.70      2375.122803\n",
       "2022-01-27 23:15:00+00:00       2407.57      2381.019287\n",
       "2022-01-27 23:20:00+00:00       2405.66      2387.413086\n",
       "2022-01-27 23:21:00+00:00       2405.63      2392.341797"
      ]
     },
     "execution_count": 162,
     "metadata": {},
     "output_type": "execute_result"
    }
   ],
   "source": [
    "predicted_df_final.tail()"
   ]
  },
  {
   "cell_type": "code",
   "execution_count": 163,
   "id": "7fedda56-c7c7-4203-930c-9de4fdcca485",
   "metadata": {},
   "outputs": [
    {
     "name": "stdout",
     "output_type": "stream",
     "text": [
      "16/16 [==============================] - 0s 6ms/step - loss: 0.0015\n"
     ]
    },
    {
     "data": {
      "text/plain": [
       "0.0014654876431450248"
      ]
     },
     "execution_count": 163,
     "metadata": {},
     "output_type": "execute_result"
    }
   ],
   "source": [
    "model.evaluate(X_new_test, y_new_test)"
   ]
  },
  {
   "cell_type": "code",
   "execution_count": null,
   "id": "07032df1-adba-406b-9f8e-96ede94503ae",
   "metadata": {},
   "outputs": [],
   "source": []
  },
  {
   "cell_type": "code",
   "execution_count": null,
   "id": "ccbdfafa-13d6-4b95-81c9-55a631e403a6",
   "metadata": {},
   "outputs": [],
   "source": []
  }
 ],
 "metadata": {
  "kernelspec": {
   "display_name": "Python 3 (ipykernel)",
   "language": "python",
   "name": "python3"
  },
  "language_info": {
   "codemirror_mode": {
    "name": "ipython",
    "version": 3
   },
   "file_extension": ".py",
   "mimetype": "text/x-python",
   "name": "python",
   "nbconvert_exporter": "python",
   "pygments_lexer": "ipython3",
   "version": "3.8.8"
  }
 },
 "nbformat": 4,
 "nbformat_minor": 5
}
